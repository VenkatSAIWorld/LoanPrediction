{
 "cells": [
  {
   "cell_type": "code",
   "execution_count": 162,
   "metadata": {},
   "outputs": [
    {
     "name": "stderr",
     "output_type": "stream",
     "text": [
      "Using TensorFlow backend.\n",
      "D:\\AI\\lib\\importlib\\_bootstrap.py:219: RuntimeWarning:\n",
      "\n",
      "numpy.ufunc size changed, may indicate binary incompatibility. Expected 192 from C header, got 216 from PyObject\n",
      "\n"
     ]
    }
   ],
   "source": [
    "import numpy as np\n",
    "import pandas as pd\n",
    "import matplotlib.pyplot as plt\n",
    "import seaborn as sns\n",
    "from sklearn import preprocessing, model_selection, feature_selection, linear_model, metrics, ensemble, tree\n",
    "import sklearn as sklearn\n",
    "import plotly.express as px\n",
    "import keras"
   ]
  },
  {
   "cell_type": "code",
   "execution_count": 41,
   "metadata": {},
   "outputs": [],
   "source": [
    "train=pd.read_csv('train_loan.csv')\n",
    "test=pd.read_csv('test_loan.csv')"
   ]
  },
  {
   "cell_type": "code",
   "execution_count": 42,
   "metadata": {},
   "outputs": [
    {
     "name": "stdout",
     "output_type": "stream",
     "text": [
      "<class 'pandas.core.frame.DataFrame'>\n",
      "RangeIndex: 614 entries, 0 to 613\n",
      "Data columns (total 13 columns):\n",
      " #   Column             Non-Null Count  Dtype  \n",
      "---  ------             --------------  -----  \n",
      " 0   Loan_ID            614 non-null    object \n",
      " 1   Gender             601 non-null    object \n",
      " 2   Married            611 non-null    object \n",
      " 3   Dependents         599 non-null    object \n",
      " 4   Education          614 non-null    object \n",
      " 5   Self_Employed      582 non-null    object \n",
      " 6   ApplicantIncome    614 non-null    int64  \n",
      " 7   CoapplicantIncome  614 non-null    float64\n",
      " 8   LoanAmount         592 non-null    float64\n",
      " 9   Loan_Amount_Term   600 non-null    float64\n",
      " 10  Credit_History     564 non-null    float64\n",
      " 11  Property_Area      614 non-null    object \n",
      " 12  Loan_Status        614 non-null    object \n",
      "dtypes: float64(4), int64(1), object(8)\n",
      "memory usage: 62.5+ KB\n"
     ]
    }
   ],
   "source": [
    "train.info()"
   ]
  },
  {
   "cell_type": "code",
   "execution_count": 43,
   "metadata": {},
   "outputs": [
    {
     "data": {
      "text/html": [
       "<div>\n",
       "<style scoped>\n",
       "    .dataframe tbody tr th:only-of-type {\n",
       "        vertical-align: middle;\n",
       "    }\n",
       "\n",
       "    .dataframe tbody tr th {\n",
       "        vertical-align: top;\n",
       "    }\n",
       "\n",
       "    .dataframe thead th {\n",
       "        text-align: right;\n",
       "    }\n",
       "</style>\n",
       "<table border=\"1\" class=\"dataframe\">\n",
       "  <thead>\n",
       "    <tr style=\"text-align: right;\">\n",
       "      <th></th>\n",
       "      <th>Loan_ID</th>\n",
       "      <th>Gender</th>\n",
       "      <th>Married</th>\n",
       "      <th>Dependents</th>\n",
       "      <th>Education</th>\n",
       "      <th>Self_Employed</th>\n",
       "      <th>ApplicantIncome</th>\n",
       "      <th>CoapplicantIncome</th>\n",
       "      <th>LoanAmount</th>\n",
       "      <th>Loan_Amount_Term</th>\n",
       "      <th>Credit_History</th>\n",
       "      <th>Property_Area</th>\n",
       "      <th>Loan_Status</th>\n",
       "    </tr>\n",
       "  </thead>\n",
       "  <tbody>\n",
       "    <tr>\n",
       "      <th>0</th>\n",
       "      <td>LP001002</td>\n",
       "      <td>Male</td>\n",
       "      <td>No</td>\n",
       "      <td>0</td>\n",
       "      <td>Graduate</td>\n",
       "      <td>No</td>\n",
       "      <td>5849</td>\n",
       "      <td>0.0</td>\n",
       "      <td>NaN</td>\n",
       "      <td>360.0</td>\n",
       "      <td>1.0</td>\n",
       "      <td>Urban</td>\n",
       "      <td>Y</td>\n",
       "    </tr>\n",
       "    <tr>\n",
       "      <th>1</th>\n",
       "      <td>LP001003</td>\n",
       "      <td>Male</td>\n",
       "      <td>Yes</td>\n",
       "      <td>1</td>\n",
       "      <td>Graduate</td>\n",
       "      <td>No</td>\n",
       "      <td>4583</td>\n",
       "      <td>1508.0</td>\n",
       "      <td>128.0</td>\n",
       "      <td>360.0</td>\n",
       "      <td>1.0</td>\n",
       "      <td>Rural</td>\n",
       "      <td>N</td>\n",
       "    </tr>\n",
       "    <tr>\n",
       "      <th>2</th>\n",
       "      <td>LP001005</td>\n",
       "      <td>Male</td>\n",
       "      <td>Yes</td>\n",
       "      <td>0</td>\n",
       "      <td>Graduate</td>\n",
       "      <td>Yes</td>\n",
       "      <td>3000</td>\n",
       "      <td>0.0</td>\n",
       "      <td>66.0</td>\n",
       "      <td>360.0</td>\n",
       "      <td>1.0</td>\n",
       "      <td>Urban</td>\n",
       "      <td>Y</td>\n",
       "    </tr>\n",
       "    <tr>\n",
       "      <th>3</th>\n",
       "      <td>LP001006</td>\n",
       "      <td>Male</td>\n",
       "      <td>Yes</td>\n",
       "      <td>0</td>\n",
       "      <td>Not Graduate</td>\n",
       "      <td>No</td>\n",
       "      <td>2583</td>\n",
       "      <td>2358.0</td>\n",
       "      <td>120.0</td>\n",
       "      <td>360.0</td>\n",
       "      <td>1.0</td>\n",
       "      <td>Urban</td>\n",
       "      <td>Y</td>\n",
       "    </tr>\n",
       "    <tr>\n",
       "      <th>4</th>\n",
       "      <td>LP001008</td>\n",
       "      <td>Male</td>\n",
       "      <td>No</td>\n",
       "      <td>0</td>\n",
       "      <td>Graduate</td>\n",
       "      <td>No</td>\n",
       "      <td>6000</td>\n",
       "      <td>0.0</td>\n",
       "      <td>141.0</td>\n",
       "      <td>360.0</td>\n",
       "      <td>1.0</td>\n",
       "      <td>Urban</td>\n",
       "      <td>Y</td>\n",
       "    </tr>\n",
       "  </tbody>\n",
       "</table>\n",
       "</div>"
      ],
      "text/plain": [
       "    Loan_ID Gender Married Dependents     Education Self_Employed  \\\n",
       "0  LP001002   Male      No          0      Graduate            No   \n",
       "1  LP001003   Male     Yes          1      Graduate            No   \n",
       "2  LP001005   Male     Yes          0      Graduate           Yes   \n",
       "3  LP001006   Male     Yes          0  Not Graduate            No   \n",
       "4  LP001008   Male      No          0      Graduate            No   \n",
       "\n",
       "   ApplicantIncome  CoapplicantIncome  LoanAmount  Loan_Amount_Term  \\\n",
       "0             5849                0.0         NaN             360.0   \n",
       "1             4583             1508.0       128.0             360.0   \n",
       "2             3000                0.0        66.0             360.0   \n",
       "3             2583             2358.0       120.0             360.0   \n",
       "4             6000                0.0       141.0             360.0   \n",
       "\n",
       "   Credit_History Property_Area Loan_Status  \n",
       "0             1.0         Urban           Y  \n",
       "1             1.0         Rural           N  \n",
       "2             1.0         Urban           Y  \n",
       "3             1.0         Urban           Y  \n",
       "4             1.0         Urban           Y  "
      ]
     },
     "execution_count": 43,
     "metadata": {},
     "output_type": "execute_result"
    }
   ],
   "source": [
    "train.head()"
   ]
  },
  {
   "cell_type": "code",
   "execution_count": 44,
   "metadata": {},
   "outputs": [],
   "source": [
    "def isnull(df, features):\n",
    "    for features in features:\n",
    "        if df[features].isnull().sum()>1:\n",
    "            print(f'feature {features} has null values : {df[features].isnull().sum()}')"
   ]
  },
  {
   "cell_type": "code",
   "execution_count": 45,
   "metadata": {},
   "outputs": [
    {
     "name": "stdout",
     "output_type": "stream",
     "text": [
      "feature Gender has null values : 13\n",
      "feature Married has null values : 3\n",
      "feature Dependents has null values : 15\n",
      "feature Self_Employed has null values : 32\n",
      "feature LoanAmount has null values : 22\n",
      "feature Loan_Amount_Term has null values : 14\n",
      "feature Credit_History has null values : 50\n"
     ]
    }
   ],
   "source": [
    "isnull(train, train.columns)"
   ]
  },
  {
   "cell_type": "code",
   "execution_count": 63,
   "metadata": {},
   "outputs": [],
   "source": [
    "def ValueCountsPlot(plot,df, features):\n",
    "    for features in features:\n",
    "        if df[features].nunique()<20 and features not in 'Loan_ID':\n",
    "            print(f'feature {features} has value counts: {df[features].value_counts()} and null values is {df[features].isnull().sum()} and unique features:{features, df[features].unique()} total unique features: {df[features].nunique()}')\n",
    "            if df[features].isnull().sum()>0:\n",
    "                x=df[features].dropna().unique()\n",
    "                h=df[features].value_counts()\n",
    "                plot(x, h)\n",
    "                plt.xlabel(features)\n",
    "                plt.show()"
   ]
  },
  {
   "cell_type": "code",
   "execution_count": 64,
   "metadata": {
    "scrolled": false
   },
   "outputs": [
    {
     "name": "stdout",
     "output_type": "stream",
     "text": [
      "feature Gender has value counts: Male      489\n",
      "Female    112\n",
      "Name: Gender, dtype: int64 and null values is 13 and unique features:('Gender', array(['Male', 'Female', nan], dtype=object)) total unique features: 2\n"
     ]
    },
    {
     "data": {
      "image/png": "[encoded data removed]",
      "text/plain": [
       "<Figure size 432x288 with 1 Axes>"
      ]
     },
     "metadata": {
      "needs_background": "light"
     },
     "output_type": "display_data"
    },
    {
     "name": "stdout",
     "output_type": "stream",
     "text": [
      "feature Married has value counts: Yes    398\n",
      "No     213\n",
      "Name: Married, dtype: int64 and null values is 3 and unique features:('Married', array(['No', 'Yes', nan], dtype=object)) total unique features: 2\n"
     ]
    },
    {
     "data": {
      "image/png": "[encoded data removed]",
      "text/plain": [
       "<Figure size 432x288 with 1 Axes>"
      ]
     },
     "metadata": {
      "needs_background": "light"
     },
     "output_type": "display_data"
    },
    {
     "name": "stdout",
     "output_type": "stream",
     "text": [
      "feature Dependents has value counts: 0     345\n",
      "1     102\n",
      "2     101\n",
      "3+     51\n",
      "Name: Dependents, dtype: int64 and null values is 15 and unique features:('Dependents', array(['0', '1', '2', '3+', nan], dtype=object)) total unique features: 4\n"
     ]
    },
    {
     "data": {
      "image/png": "[encoded data removed]",
      "text/plain": [
       "<Figure size 432x288 with 1 Axes>"
      ]
     },
     "metadata": {
      "needs_background": "light"
     },
     "output_type": "display_data"
    },
    {
     "name": "stdout",
     "output_type": "stream",
     "text": [
      "feature Education has value counts: Graduate        480\n",
      "Not Graduate    134\n",
      "Name: Education, dtype: int64 and null values is 0 and unique features:('Education', array(['Graduate', 'Not Graduate'], dtype=object)) total unique features: 2\n",
      "feature Self_Employed has value counts: No     500\n",
      "Yes     82\n",
      "Name: Self_Employed, dtype: int64 and null values is 32 and unique features:('Self_Employed', array(['No', 'Yes', nan], dtype=object)) total unique features: 2\n"
     ]
    },
    {
     "data": {
      "image/png": "[encoded data removed]",
      "text/plain": [
       "<Figure size 432x288 with 1 Axes>"
      ]
     },
     "metadata": {
      "needs_background": "light"
     },
     "output_type": "display_data"
    },
    {
     "name": "stdout",
     "output_type": "stream",
     "text": [
      "feature Loan_Amount_Term has value counts: 360.0    512\n",
      "180.0     44\n",
      "480.0     15\n",
      "300.0     13\n",
      "84.0       4\n",
      "240.0      4\n",
      "120.0      3\n",
      "36.0       2\n",
      "60.0       2\n",
      "12.0       1\n",
      "Name: Loan_Amount_Term, dtype: int64 and null values is 14 and unique features:('Loan_Amount_Term', array([360., 120., 240.,  nan, 180.,  60., 300., 480.,  36.,  84.,  12.])) total unique features: 10\n"
     ]
    },
    {
     "data": {
      "image/png": "[encoded data removed]",
      "text/plain": [
       "<Figure size 432x288 with 1 Axes>"
      ]
     },
     "metadata": {
      "needs_background": "light"
     },
     "output_type": "display_data"
    },
    {
     "name": "stdout",
     "output_type": "stream",
     "text": [
      "feature Credit_History has value counts: 1.0    475\n",
      "0.0     89\n",
      "Name: Credit_History, dtype: int64 and null values is 50 and unique features:('Credit_History', array([ 1.,  0., nan])) total unique features: 2\n"
     ]
    },
    {
     "data": {
      "image/png": "[encoded data removed]",
      "text/plain": [
       "<Figure size 432x288 with 1 Axes>"
      ]
     },
     "metadata": {
      "needs_background": "light"
     },
     "output_type": "display_data"
    },
    {
     "name": "stdout",
     "output_type": "stream",
     "text": [
      "feature Property_Area has value counts: Semiurban    233\n",
      "Urban        202\n",
      "Rural        179\n",
      "Name: Property_Area, dtype: int64 and null values is 0 and unique features:('Property_Area', array(['Urban', 'Rural', 'Semiurban'], dtype=object)) total unique features: 3\n",
      "feature Loan_Status has value counts: Y    422\n",
      "N    192\n",
      "Name: Loan_Status, dtype: int64 and null values is 0 and unique features:('Loan_Status', array(['Y', 'N'], dtype=object)) total unique features: 2\n"
     ]
    }
   ],
   "source": [
    "ValueCountsPlot(plt.bar, train, train.columns)"
   ]
  },
  {
   "cell_type": "code",
   "execution_count": 81,
   "metadata": {},
   "outputs": [
    {
     "name": "stdout",
     "output_type": "stream",
     "text": [
      "feature Gender has null values : 11\n",
      "feature Dependents has null values : 10\n",
      "feature Self_Employed has null values : 23\n",
      "feature LoanAmount has null values : 5\n",
      "feature Loan_Amount_Term has null values : 6\n",
      "feature Credit_History has null values : 29\n"
     ]
    }
   ],
   "source": [
    "isnull(test, test.columns)"
   ]
  },
  {
   "cell_type": "code",
   "execution_count": 82,
   "metadata": {},
   "outputs": [
    {
     "name": "stdout",
     "output_type": "stream",
     "text": [
      "feature Gender has value counts: Male      286\n",
      "Female     70\n",
      "Name: Gender, dtype: int64 and null values is 11 and unique features:('Gender', array(['Male', 'Female', nan], dtype=object)) total unique features: 2\n"
     ]
    },
    {
     "data": {
      "image/png": "[encoded data removed]",
      "text/plain": [
       "<Figure size 432x288 with 1 Axes>"
      ]
     },
     "metadata": {
      "needs_background": "light"
     },
     "output_type": "display_data"
    },
    {
     "name": "stdout",
     "output_type": "stream",
     "text": [
      "feature Married has value counts: Yes    233\n",
      "No     134\n",
      "Name: Married, dtype: int64 and null values is 0 and unique features:('Married', array(['Yes', 'No'], dtype=object)) total unique features: 2\n",
      "feature Dependents has value counts: 0     200\n",
      "2      59\n",
      "1      58\n",
      "3+     40\n",
      "Name: Dependents, dtype: int64 and null values is 10 and unique features:('Dependents', array(['0', '1', '2', '3+', nan], dtype=object)) total unique features: 4\n"
     ]
    },
    {
     "data": {
      "image/png": "[encoded data removed]",
      "text/plain": [
       "<Figure size 432x288 with 1 Axes>"
      ]
     },
     "metadata": {
      "needs_background": "light"
     },
     "output_type": "display_data"
    },
    {
     "name": "stdout",
     "output_type": "stream",
     "text": [
      "feature Education has value counts: Graduate        283\n",
      "Not Graduate     84\n",
      "Name: Education, dtype: int64 and null values is 0 and unique features:('Education', array(['Graduate', 'Not Graduate'], dtype=object)) total unique features: 2\n",
      "feature Self_Employed has value counts: No     307\n",
      "Yes     37\n",
      "Name: Self_Employed, dtype: int64 and null values is 23 and unique features:('Self_Employed', array(['No', 'Yes', nan], dtype=object)) total unique features: 2\n"
     ]
    },
    {
     "data": {
      "image/png": "[encoded data removed]",
      "text/plain": [
       "<Figure size 432x288 with 1 Axes>"
      ]
     },
     "metadata": {
      "needs_background": "light"
     },
     "output_type": "display_data"
    },
    {
     "name": "stdout",
     "output_type": "stream",
     "text": [
      "feature Loan_Amount_Term has value counts: 360.0    311\n",
      "180.0     22\n",
      "480.0      8\n",
      "300.0      7\n",
      "240.0      4\n",
      "84.0       3\n",
      "6.0        1\n",
      "120.0      1\n",
      "36.0       1\n",
      "350.0      1\n",
      "12.0       1\n",
      "60.0       1\n",
      "Name: Loan_Amount_Term, dtype: int64 and null values is 6 and unique features:('Loan_Amount_Term', array([360., 240., 180.,  nan,  60., 480.,  84.,  12., 300., 350.,  36.,\n",
      "       120.,   6.])) total unique features: 12\n"
     ]
    },
    {
     "data": {
      "image/png": "[encoded data removed]",
      "text/plain": [
       "<Figure size 432x288 with 1 Axes>"
      ]
     },
     "metadata": {
      "needs_background": "light"
     },
     "output_type": "display_data"
    },
    {
     "name": "stdout",
     "output_type": "stream",
     "text": [
      "feature Credit_History has value counts: 1.0    279\n",
      "0.0     59\n",
      "Name: Credit_History, dtype: int64 and null values is 29 and unique features:('Credit_History', array([ 1., nan,  0.])) total unique features: 2\n"
     ]
    },
    {
     "data": {
      "image/png": "[encoded data removed]",
      "text/plain": [
       "<Figure size 432x288 with 1 Axes>"
      ]
     },
     "metadata": {
      "needs_background": "light"
     },
     "output_type": "display_data"
    },
    {
     "name": "stdout",
     "output_type": "stream",
     "text": [
      "feature Property_Area has value counts: Urban        140\n",
      "Semiurban    116\n",
      "Rural        111\n",
      "Name: Property_Area, dtype: int64 and null values is 0 and unique features:('Property_Area', array(['Urban', 'Semiurban', 'Rural'], dtype=object)) total unique features: 3\n"
     ]
    }
   ],
   "source": [
    "ValueCountsPlot(plt.bar, test, test.columns)"
   ]
  },
  {
   "cell_type": "code",
   "execution_count": 79,
   "metadata": {},
   "outputs": [],
   "source": [
    "def fillna(df, features):\n",
    "    print(f'total features: {len(features)}')\n",
    "    for features in features:\n",
    "        if df[features].nunique()<20 :\n",
    "            print('categorical features:',features)\n",
    "            df[features]=df[features].fillna(df[features].mode()[0])\n",
    "            df[features]=preprocessing.LabelEncoder().fit_transform(df[features])\n",
    "            \n",
    "        elif df[features].nunique()>20 and features not in 'Loan_ID' :\n",
    "            print('numerical features:',features)\n",
    "            df[features]=df[features].fillna(df[features].median())\n",
    "            \n",
    "        print(f'null values: {df[features].isnull().sum()}')\n",
    "            "
   ]
  },
  {
   "cell_type": "code",
   "execution_count": 80,
   "metadata": {},
   "outputs": [
    {
     "name": "stdout",
     "output_type": "stream",
     "text": [
      "total features: 13\n",
      "null values: 0\n",
      "categorical features: Gender\n",
      "null values: 0\n",
      "categorical features: Married\n",
      "null values: 0\n",
      "categorical features: Dependents\n",
      "null values: 0\n",
      "categorical features: Education\n",
      "null values: 0\n",
      "categorical features: Self_Employed\n",
      "null values: 0\n",
      "numerical features: ApplicantIncome\n",
      "null values: 0\n",
      "numerical features: CoapplicantIncome\n",
      "null values: 0\n",
      "numerical features: LoanAmount\n",
      "null values: 0\n",
      "categorical features: Loan_Amount_Term\n",
      "null values: 0\n",
      "categorical features: Credit_History\n",
      "null values: 0\n",
      "categorical features: Property_Area\n",
      "null values: 0\n",
      "categorical features: Loan_Status\n",
      "null values: 0\n"
     ]
    }
   ],
   "source": [
    "fillna(train, train.columns)"
   ]
  },
  {
   "cell_type": "code",
   "execution_count": 85,
   "metadata": {},
   "outputs": [],
   "source": [
    "X=train.drop(['Loan_ID','Loan_Status'], axis=1)\n",
    "x=test[X.columns]\n",
    "y=train.Loan_Status"
   ]
  },
  {
   "cell_type": "code",
   "execution_count": 88,
   "metadata": {},
   "outputs": [],
   "source": [
    "def train_val_split(X,y):\n",
    "    global X_train, X_val,y_train, y_val\n",
    "    X_train, X_val,y_train, y_val=model_selection.train_test_split(X,y, test_size=0.2, random_state=0)\n",
    "    print(X_train.shape, X_val.shape,y_train.shape, y_val.shape)    "
   ]
  },
  {
   "cell_type": "code",
   "execution_count": 90,
   "metadata": {},
   "outputs": [
    {
     "name": "stdout",
     "output_type": "stream",
     "text": [
      "(491, 11) (123, 11) (491,) (123,)\n"
     ]
    }
   ],
   "source": [
    "train_val_split(X,y)"
   ]
  },
  {
   "cell_type": "code",
   "execution_count": 94,
   "metadata": {},
   "outputs": [
    {
     "data": {
      "text/plain": [
       "90     1\n",
       "533    0\n",
       "452    0\n",
       "355    1\n",
       "266    1\n",
       "      ..\n",
       "277    1\n",
       "9      0\n",
       "359    1\n",
       "192    0\n",
       "559    1\n",
       "Name: Loan_Status, Length: 491, dtype: int64"
      ]
     },
     "execution_count": 94,
     "metadata": {},
     "output_type": "execute_result"
    }
   ],
   "source": [
    "y_train"
   ]
  },
  {
   "cell_type": "code",
   "execution_count": 139,
   "metadata": {},
   "outputs": [],
   "source": [
    "def modelPredict(model, X_train, y_train):\n",
    "    model.fit(X_train, y_train)\n",
    "    print(f'score: {model.score(X_train, y_train)}')\n",
    "    print(f'val score: {model.score(X_val, y_val)}')\n",
    "    print(f'total score: {model.score(X,y)}')\n",
    "    print(f'acc val score: {metrics.accuracy_score( y_val, model.predict(X_val))}')\n",
    "    print(f'classification report val score: {metrics.classification_report( y_val, model.predict(X_val))}')\n",
    "                \n",
    "    print(f'confusion matrix total score: {metrics.confusion_matrix( y, model.predict(X))}')\n",
    "\n",
    "    print(f'confusion matrix train score: {metrics.confusion_matrix( y_train, model.predict(X_train))}')\n",
    "    print(f'confusion matrix val score: {metrics.confusion_matrix( y_val, model.predict(X_val))}')\n",
    "    return model"
   ]
  },
  {
   "cell_type": "code",
   "execution_count": 140,
   "metadata": {},
   "outputs": [
    {
     "name": "stdout",
     "output_type": "stream",
     "text": [
      "score: 0.8065173116089613\n",
      "val score: 0.8373983739837398\n",
      "total score: 0.8127035830618893\n",
      "acc val score: 0.8373983739837398\n",
      "classification report val score:               precision    recall  f1-score   support\n",
      "\n",
      "           0       0.88      0.45      0.60        33\n",
      "           1       0.83      0.98      0.90        90\n",
      "\n",
      "    accuracy                           0.84       123\n",
      "   macro avg       0.86      0.72      0.75       123\n",
      "weighted avg       0.84      0.84      0.82       123\n",
      "\n",
      "confusion matrix total score: [[ 84 108]\n",
      " [  7 415]]\n",
      "confusion matrix train score: [[ 69  90]\n",
      " [  5 327]]\n",
      "confusion matrix val score: [[15 18]\n",
      " [ 2 88]]\n"
     ]
    },
    {
     "data": {
      "text/plain": [
       "LogisticRegression(solver='newton-cg')"
      ]
     },
     "execution_count": 140,
     "metadata": {},
     "output_type": "execute_result"
    }
   ],
   "source": [
    "modelPredict(linear_model.LogisticRegression(solver='newton-cg'), X_train, y_train)"
   ]
  },
  {
   "cell_type": "code",
   "execution_count": 112,
   "metadata": {},
   "outputs": [
    {
     "name": "stdout",
     "output_type": "stream",
     "text": [
      "score: 1.0\n",
      "val score: 0.7804878048780488\n",
      "total score: 0.9560260586319218\n",
      "acc val score: 0.7804878048780488\n",
      "classification report val score:               precision    recall  f1-score   support\n",
      "\n",
      "           0       0.64      0.42      0.51        33\n",
      "           1       0.81      0.91      0.86        90\n",
      "\n",
      "    accuracy                           0.78       123\n",
      "   macro avg       0.72      0.67      0.68       123\n",
      "weighted avg       0.76      0.78      0.76       123\n",
      "\n",
      "confusion matrix total score: [[173  19]\n",
      " [  8 414]]\n",
      "confusion matrix train score: [[159   0]\n",
      " [  0 332]]\n",
      "confusion matrix val score: [[14 19]\n",
      " [ 8 82]]\n"
     ]
    }
   ],
   "source": [
    "modelPredict(ensemble.RandomForestClassifier(), X_train, y_train)"
   ]
  },
  {
   "cell_type": "code",
   "execution_count": 114,
   "metadata": {},
   "outputs": [
    {
     "name": "stdout",
     "output_type": "stream",
     "text": [
      "score: 1.0\n",
      "val score: 0.6666666666666666\n",
      "total score: 0.9332247557003257\n",
      "acc val score: 0.6666666666666666\n",
      "classification report val score:               precision    recall  f1-score   support\n",
      "\n",
      "           0       0.40      0.52      0.45        33\n",
      "           1       0.80      0.72      0.76        90\n",
      "\n",
      "    accuracy                           0.67       123\n",
      "   macro avg       0.60      0.62      0.61       123\n",
      "weighted avg       0.70      0.67      0.68       123\n",
      "\n",
      "confusion matrix total score: [[176  16]\n",
      " [ 25 397]]\n",
      "confusion matrix train score: [[159   0]\n",
      " [  0 332]]\n",
      "confusion matrix val score: [[17 16]\n",
      " [25 65]]\n"
     ]
    }
   ],
   "source": [
    "modelPredict(tree.DecisionTreeClassifier(), X_train, y_train)"
   ]
  },
  {
   "cell_type": "code",
   "execution_count": 115,
   "metadata": {},
   "outputs": [
    {
     "name": "stdout",
     "output_type": "stream",
     "text": [
      "score: 0.8228105906313645\n",
      "val score: 0.8211382113821138\n",
      "total score: 0.8224755700325733\n",
      "acc val score: 0.8211382113821138\n",
      "classification report val score:               precision    recall  f1-score   support\n",
      "\n",
      "           0       0.74      0.52      0.61        33\n",
      "           1       0.84      0.93      0.88        90\n",
      "\n",
      "    accuracy                           0.82       123\n",
      "   macro avg       0.79      0.72      0.75       123\n",
      "weighted avg       0.81      0.82      0.81       123\n",
      "\n",
      "confusion matrix total score: [[ 98  94]\n",
      " [ 15 407]]\n",
      "confusion matrix train score: [[ 81  78]\n",
      " [  9 323]]\n",
      "confusion matrix val score: [[17 16]\n",
      " [ 6 84]]\n"
     ]
    }
   ],
   "source": [
    "modelPredict(ensemble.AdaBoostClassifier(), X_train, y_train)"
   ]
  },
  {
   "cell_type": "code",
   "execution_count": 116,
   "metadata": {},
   "outputs": [
    {
     "name": "stdout",
     "output_type": "stream",
     "text": [
      "score: 0.9796334012219959\n",
      "val score: 0.7235772357723578\n",
      "total score: 0.9283387622149837\n",
      "acc val score: 0.7235772357723578\n",
      "classification report val score:               precision    recall  f1-score   support\n",
      "\n",
      "           0       0.49      0.55      0.51        33\n",
      "           1       0.83      0.79      0.81        90\n",
      "\n",
      "    accuracy                           0.72       123\n",
      "   macro avg       0.66      0.67      0.66       123\n",
      "weighted avg       0.73      0.72      0.73       123\n",
      "\n",
      "confusion matrix total score: [[170  22]\n",
      " [ 22 400]]\n",
      "confusion matrix train score: [[152   7]\n",
      " [  3 329]]\n",
      "confusion matrix val score: [[18 15]\n",
      " [19 71]]\n"
     ]
    }
   ],
   "source": [
    "modelPredict(ensemble.BaggingClassifier(), X_train, y_train)"
   ]
  },
  {
   "cell_type": "code",
   "execution_count": 117,
   "metadata": {},
   "outputs": [
    {
     "name": "stdout",
     "output_type": "stream",
     "text": [
      "score: 1.0\n",
      "val score: 0.7642276422764228\n",
      "total score: 0.9527687296416938\n",
      "acc val score: 0.7642276422764228\n",
      "classification report val score:               precision    recall  f1-score   support\n",
      "\n",
      "           0       0.58      0.42      0.49        33\n",
      "           1       0.81      0.89      0.85        90\n",
      "\n",
      "    accuracy                           0.76       123\n",
      "   macro avg       0.70      0.66      0.67       123\n",
      "weighted avg       0.75      0.76      0.75       123\n",
      "\n",
      "confusion matrix total score: [[173  19]\n",
      " [ 10 412]]\n",
      "confusion matrix train score: [[159   0]\n",
      " [  0 332]]\n",
      "confusion matrix val score: [[14 19]\n",
      " [10 80]]\n"
     ]
    }
   ],
   "source": [
    "modelPredict(ensemble.ExtraTreesClassifier(), X_train, y_train)"
   ]
  },
  {
   "cell_type": "code",
   "execution_count": 118,
   "metadata": {},
   "outputs": [
    {
     "name": "stdout",
     "output_type": "stream",
     "text": [
      "score: 0.8818737270875764\n",
      "val score: 0.8048780487804879\n",
      "total score: 0.8664495114006515\n",
      "acc val score: 0.8048780487804879\n",
      "classification report val score:               precision    recall  f1-score   support\n",
      "\n",
      "           0       0.71      0.45      0.56        33\n",
      "           1       0.82      0.93      0.87        90\n",
      "\n",
      "    accuracy                           0.80       123\n",
      "   macro avg       0.77      0.69      0.72       123\n",
      "weighted avg       0.79      0.80      0.79       123\n",
      "\n",
      "confusion matrix total score: [[118  74]\n",
      " [  8 414]]\n",
      "confusion matrix train score: [[103  56]\n",
      " [  2 330]]\n",
      "confusion matrix val score: [[15 18]\n",
      " [ 6 84]]\n"
     ]
    }
   ],
   "source": [
    "modelPredict(ensemble.GradientBoostingClassifier(), X_train, y_train)"
   ]
  },
  {
   "cell_type": "code",
   "execution_count": 129,
   "metadata": {},
   "outputs": [],
   "source": [
    "rf=ensemble.RandomForestClassifier()\n",
    "abc=ensemble.AdaBoostClassifier()\n",
    "bag=ensemble.BaggingClassifier()"
   ]
  },
  {
   "cell_type": "code",
   "execution_count": 161,
   "metadata": {},
   "outputs": [
    {
     "name": "stdout",
     "output_type": "stream",
     "text": [
      "score: 1.0\n",
      "val score: 0.7967479674796748\n",
      "total score: 0.9592833876221498\n",
      "acc val score: 0.7967479674796748\n",
      "classification report val score:               precision    recall  f1-score   support\n",
      "\n",
      "           0       0.70      0.42      0.53        33\n",
      "           1       0.82      0.93      0.87        90\n",
      "\n",
      "    accuracy                           0.80       123\n",
      "   macro avg       0.76      0.68      0.70       123\n",
      "weighted avg       0.78      0.80      0.78       123\n",
      "\n",
      "confusion matrix total score: [[173  19]\n",
      " [  6 416]]\n",
      "confusion matrix train score: [[159   0]\n",
      " [  0 332]]\n",
      "confusion matrix val score: [[14 19]\n",
      " [ 6 84]]\n"
     ]
    },
    {
     "data": {
      "text/plain": [
       "StackingClassifier(estimators=[('rf', RandomForestClassifier()),\n",
       "                               ('adaboost', AdaBoostClassifier()),\n",
       "                               ('decision tree', DecisionTreeClassifier())])"
      ]
     },
     "execution_count": 161,
     "metadata": {},
     "output_type": "execute_result"
    }
   ],
   "source": [
    "modelPredict(model=ensemble.StackingClassifier(estimators=[('rf',rf),('adaboost',abc),\n",
    "                                                           ('decision tree', tree.DecisionTreeClassifier())]), \n",
    "             X_train=X_train, y_train=y_train)"
   ]
  },
  {
   "cell_type": "code",
   "execution_count": 176,
   "metadata": {},
   "outputs": [],
   "source": []
  },
  {
   "cell_type": "code",
   "execution_count": 287,
   "metadata": {},
   "outputs": [],
   "source": [
    "model=keras.models.Sequential()\n",
    "model.add(keras.layers.Dense(11, activation='relu', input_dim=11))\n",
    "model.add(keras.layers.Dense(10, activation='relu'))\n",
    "model.add(keras.layers.Dense(10, activation='relu'))\n",
    "model.add(keras.layers.Dense(10, activation='relu'))\n",
    "model.add(keras.layers.Dense(1, activation='sigmoid'))"
   ]
  },
  {
   "cell_type": "code",
   "execution_count": 288,
   "metadata": {},
   "outputs": [
    {
     "name": "stdout",
     "output_type": "stream",
     "text": [
      "Model: \"sequential_9\"\n",
      "_________________________________________________________________\n",
      "Layer (type)                 Output Shape              Param #   \n",
      "=================================================================\n",
      "dense_38 (Dense)             (None, 11)                132       \n",
      "_________________________________________________________________\n",
      "dense_39 (Dense)             (None, 10)                120       \n",
      "_________________________________________________________________\n",
      "dense_40 (Dense)             (None, 10)                110       \n",
      "_________________________________________________________________\n",
      "dense_41 (Dense)             (None, 10)                110       \n",
      "_________________________________________________________________\n",
      "dense_42 (Dense)             (None, 1)                 11        \n",
      "=================================================================\n",
      "Total params: 483\n",
      "Trainable params: 483\n",
      "Non-trainable params: 0\n",
      "_________________________________________________________________\n"
     ]
    }
   ],
   "source": [
    "model.summary()"
   ]
  },
  {
   "cell_type": "code",
   "execution_count": 289,
   "metadata": {},
   "outputs": [],
   "source": [
    "model.compile(optimizer=keras.optimizers.Adam(), loss=keras.losses.binary_crossentropy, metrics=['accuracy'])"
   ]
  },
  {
   "cell_type": "code",
   "execution_count": 290,
   "metadata": {},
   "outputs": [
    {
     "name": "stdout",
     "output_type": "stream",
     "text": [
      "Train on 392 samples, validate on 99 samples\n",
      "Epoch 1/100\n",
      "392/392 [==============================] - 0s 1ms/step - loss: 735.0245 - accuracy: 0.3189 - val_loss: 496.5781 - val_accuracy: 0.3434\n",
      "Epoch 2/100\n",
      "392/392 [==============================] - 0s 125us/step - loss: 438.8343 - accuracy: 0.3189 - val_loss: 257.8734 - val_accuracy: 0.3434\n",
      "Epoch 3/100\n",
      "392/392 [==============================] - 0s 98us/step - loss: 220.2875 - accuracy: 0.3189 - val_loss: 105.3549 - val_accuracy: 0.3434\n",
      "Epoch 4/100\n",
      "392/392 [==============================] - 0s 109us/step - loss: 68.5900 - accuracy: 0.4056 - val_loss: 15.3166 - val_accuracy: 0.5657\n",
      "Epoch 5/100\n",
      "392/392 [==============================] - 0s 71us/step - loss: 18.1663 - accuracy: 0.6633 - val_loss: 26.6270 - val_accuracy: 0.6566\n",
      "Epoch 6/100\n",
      "392/392 [==============================] - 0s 96us/step - loss: 14.8664 - accuracy: 0.6097 - val_loss: 12.3417 - val_accuracy: 0.5556\n",
      "Epoch 7/100\n",
      "392/392 [==============================] - 0s 99us/step - loss: 9.9589 - accuracy: 0.5281 - val_loss: 8.3988 - val_accuracy: 0.6667\n",
      "Epoch 8/100\n",
      "392/392 [==============================] - 0s 105us/step - loss: 6.4473 - accuracy: 0.6454 - val_loss: 5.6356 - val_accuracy: 0.5354\n",
      "Epoch 9/100\n",
      "392/392 [==============================] - 0s 79us/step - loss: 4.0740 - accuracy: 0.5740 - val_loss: 3.2699 - val_accuracy: 0.6667\n",
      "Epoch 10/100\n",
      "392/392 [==============================] - 0s 100us/step - loss: 2.3999 - accuracy: 0.6071 - val_loss: 2.5015 - val_accuracy: 0.5455\n",
      "Epoch 11/100\n",
      "392/392 [==============================] - 0s 112us/step - loss: 1.8356 - accuracy: 0.5740 - val_loss: 2.9375 - val_accuracy: 0.6061\n",
      "Epoch 12/100\n",
      "392/392 [==============================] - 0s 102us/step - loss: 2.1263 - accuracy: 0.6224 - val_loss: 2.2728 - val_accuracy: 0.5556\n",
      "Epoch 13/100\n",
      "392/392 [==============================] - 0s 88us/step - loss: 2.7852 - accuracy: 0.5740 - val_loss: 2.7937 - val_accuracy: 0.6263\n",
      "Epoch 14/100\n",
      "392/392 [==============================] - 0s 111us/step - loss: 2.2063 - accuracy: 0.5740 - val_loss: 3.6361 - val_accuracy: 0.6667\n",
      "Epoch 15/100\n",
      "392/392 [==============================] - 0s 109us/step - loss: 1.8618 - accuracy: 0.5944 - val_loss: 1.9203 - val_accuracy: 0.5455\n",
      "Epoch 16/100\n",
      "392/392 [==============================] - 0s 81us/step - loss: 2.1808 - accuracy: 0.5714 - val_loss: 2.1490 - val_accuracy: 0.5859\n",
      "Epoch 17/100\n",
      "392/392 [==============================] - 0s 92us/step - loss: 1.8352 - accuracy: 0.5867 - val_loss: 2.4836 - val_accuracy: 0.4444\n",
      "Epoch 18/100\n",
      "392/392 [==============================] - 0s 96us/step - loss: 1.8390 - accuracy: 0.5765 - val_loss: 1.7652 - val_accuracy: 0.5556\n",
      "Epoch 19/100\n",
      "392/392 [==============================] - 0s 96us/step - loss: 2.1226 - accuracy: 0.5918 - val_loss: 2.4139 - val_accuracy: 0.6667\n",
      "Epoch 20/100\n",
      "392/392 [==============================] - 0s 86us/step - loss: 1.5430 - accuracy: 0.6148 - val_loss: 1.8867 - val_accuracy: 0.6263\n",
      "Epoch 21/100\n",
      "392/392 [==============================] - 0s 89us/step - loss: 1.7666 - accuracy: 0.6020 - val_loss: 1.5780 - val_accuracy: 0.5556\n",
      "Epoch 22/100\n",
      "392/392 [==============================] - 0s 101us/step - loss: 1.7478 - accuracy: 0.5510 - val_loss: 2.7764 - val_accuracy: 0.6667\n",
      "Epoch 23/100\n",
      "392/392 [==============================] - 0s 90us/step - loss: 1.6700 - accuracy: 0.5842 - val_loss: 1.6013 - val_accuracy: 0.6162\n",
      "Epoch 24/100\n",
      "392/392 [==============================] - 0s 96us/step - loss: 1.5436 - accuracy: 0.5995 - val_loss: 2.2288 - val_accuracy: 0.4242\n",
      "Epoch 25/100\n",
      "392/392 [==============================] - 0s 107us/step - loss: 1.9147 - accuracy: 0.5510 - val_loss: 1.3042 - val_accuracy: 0.4949\n",
      "Epoch 26/100\n",
      "392/392 [==============================] - 0s 109us/step - loss: 1.1767 - accuracy: 0.5842 - val_loss: 1.3734 - val_accuracy: 0.4545\n",
      "Epoch 27/100\n",
      "392/392 [==============================] - 0s 83us/step - loss: 1.1154 - accuracy: 0.5459 - val_loss: 1.3923 - val_accuracy: 0.6465\n",
      "Epoch 28/100\n",
      "392/392 [==============================] - 0s 98us/step - loss: 1.2378 - accuracy: 0.6122 - val_loss: 1.6172 - val_accuracy: 0.6667\n",
      "Epoch 29/100\n",
      "392/392 [==============================] - 0s 93us/step - loss: 1.3364 - accuracy: 0.6480 - val_loss: 1.1845 - val_accuracy: 0.5354\n",
      "Epoch 30/100\n",
      "392/392 [==============================] - 0s 83us/step - loss: 1.4702 - accuracy: 0.5816 - val_loss: 1.0731 - val_accuracy: 0.5758\n",
      "Epoch 31/100\n",
      "392/392 [==============================] - 0s 105us/step - loss: 1.0460 - accuracy: 0.6071 - val_loss: 1.8087 - val_accuracy: 0.6768\n",
      "Epoch 32/100\n",
      "392/392 [==============================] - 0s 115us/step - loss: 1.4882 - accuracy: 0.5918 - val_loss: 1.0661 - val_accuracy: 0.5455\n",
      "Epoch 33/100\n",
      "392/392 [==============================] - 0s 82us/step - loss: 1.2233 - accuracy: 0.5434 - val_loss: 1.1048 - val_accuracy: 0.4848\n",
      "Epoch 34/100\n",
      "392/392 [==============================] - 0s 95us/step - loss: 1.2732 - accuracy: 0.5969 - val_loss: 2.0470 - val_accuracy: 0.6667\n",
      "Epoch 35/100\n",
      "392/392 [==============================] - 0s 107us/step - loss: 1.8503 - accuracy: 0.5918 - val_loss: 1.3659 - val_accuracy: 0.5758\n",
      "Epoch 36/100\n",
      "392/392 [==============================] - 0s 88us/step - loss: 2.3501 - accuracy: 0.5714 - val_loss: 1.1383 - val_accuracy: 0.5657\n",
      "Epoch 37/100\n",
      "392/392 [==============================] - 0s 108us/step - loss: 1.0647 - accuracy: 0.6020 - val_loss: 1.5332 - val_accuracy: 0.4646\n",
      "Epoch 38/100\n",
      "392/392 [==============================] - 0s 89us/step - loss: 1.2204 - accuracy: 0.5995 - val_loss: 1.4104 - val_accuracy: 0.6667\n",
      "Epoch 39/100\n",
      "392/392 [==============================] - 0s 141us/step - loss: 1.0185 - accuracy: 0.6403 - val_loss: 0.9983 - val_accuracy: 0.5657\n",
      "Epoch 40/100\n",
      "392/392 [==============================] - 0s 116us/step - loss: 0.8812 - accuracy: 0.6199 - val_loss: 1.2839 - val_accuracy: 0.6667\n",
      "Epoch 41/100\n",
      "392/392 [==============================] - 0s 115us/step - loss: 0.8862 - accuracy: 0.6199 - val_loss: 1.5048 - val_accuracy: 0.6768\n",
      "Epoch 42/100\n",
      "392/392 [==============================] - 0s 106us/step - loss: 1.4954 - accuracy: 0.5969 - val_loss: 1.7306 - val_accuracy: 0.6869\n",
      "Epoch 43/100\n",
      "392/392 [==============================] - 0s 112us/step - loss: 1.2532 - accuracy: 0.6403 - val_loss: 1.2086 - val_accuracy: 0.4444\n",
      "Epoch 44/100\n",
      "392/392 [==============================] - 0s 111us/step - loss: 1.1115 - accuracy: 0.5944 - val_loss: 0.9941 - val_accuracy: 0.6263\n",
      "Epoch 45/100\n",
      "392/392 [==============================] - 0s 102us/step - loss: 0.9580 - accuracy: 0.5995 - val_loss: 1.2254 - val_accuracy: 0.6869\n",
      "Epoch 46/100\n",
      "392/392 [==============================] - 0s 110us/step - loss: 1.1257 - accuracy: 0.6046 - val_loss: 1.1527 - val_accuracy: 0.6162\n",
      "Epoch 47/100\n",
      "392/392 [==============================] - 0s 107us/step - loss: 1.2828 - accuracy: 0.6531 - val_loss: 1.3262 - val_accuracy: 0.5556\n",
      "Epoch 48/100\n",
      "392/392 [==============================] - 0s 104us/step - loss: 1.8201 - accuracy: 0.5536 - val_loss: 1.2172 - val_accuracy: 0.5051\n",
      "Epoch 49/100\n",
      "392/392 [==============================] - 0s 123us/step - loss: 1.0822 - accuracy: 0.6352 - val_loss: 0.9738 - val_accuracy: 0.5758\n",
      "Epoch 50/100\n",
      "392/392 [==============================] - 0s 101us/step - loss: 1.3290 - accuracy: 0.5995 - val_loss: 1.7519 - val_accuracy: 0.6768\n",
      "Epoch 51/100\n",
      "392/392 [==============================] - 0s 99us/step - loss: 1.2346 - accuracy: 0.5765 - val_loss: 1.1587 - val_accuracy: 0.4747\n",
      "Epoch 52/100\n",
      "392/392 [==============================] - 0s 99us/step - loss: 0.9177 - accuracy: 0.6046 - val_loss: 1.2166 - val_accuracy: 0.5152\n",
      "Epoch 53/100\n",
      "392/392 [==============================] - 0s 106us/step - loss: 0.9679 - accuracy: 0.6148 - val_loss: 1.1429 - val_accuracy: 0.6566\n",
      "Epoch 54/100\n",
      "392/392 [==============================] - 0s 94us/step - loss: 0.8825 - accuracy: 0.6327 - val_loss: 0.8579 - val_accuracy: 0.6162\n",
      "Epoch 55/100\n",
      "392/392 [==============================] - 0s 103us/step - loss: 0.7759 - accuracy: 0.6454 - val_loss: 0.9940 - val_accuracy: 0.6566\n",
      "Epoch 56/100\n",
      "392/392 [==============================] - 0s 107us/step - loss: 1.2623 - accuracy: 0.6301 - val_loss: 1.0377 - val_accuracy: 0.4848\n"
     ]
    },
    {
     "name": "stdout",
     "output_type": "stream",
     "text": [
      "Epoch 57/100\n",
      "392/392 [==============================] - 0s 100us/step - loss: 1.2367 - accuracy: 0.5587 - val_loss: 1.1961 - val_accuracy: 0.6768\n",
      "Epoch 58/100\n",
      "392/392 [==============================] - 0s 99us/step - loss: 1.2124 - accuracy: 0.6276 - val_loss: 1.5132 - val_accuracy: 0.3535\n",
      "Epoch 59/100\n",
      "392/392 [==============================] - 0s 114us/step - loss: 1.4907 - accuracy: 0.5357 - val_loss: 1.5958 - val_accuracy: 0.6768\n",
      "Epoch 60/100\n",
      "392/392 [==============================] - 0s 106us/step - loss: 1.3113 - accuracy: 0.5918 - val_loss: 1.5550 - val_accuracy: 0.6768\n",
      "Epoch 61/100\n",
      "392/392 [==============================] - 0s 118us/step - loss: 0.9766 - accuracy: 0.6148 - val_loss: 1.0967 - val_accuracy: 0.4848\n",
      "Epoch 62/100\n",
      "392/392 [==============================] - 0s 116us/step - loss: 1.1135 - accuracy: 0.6122 - val_loss: 1.4714 - val_accuracy: 0.6768\n",
      "Epoch 63/100\n",
      "392/392 [==============================] - 0s 115us/step - loss: 1.0956 - accuracy: 0.5816 - val_loss: 0.9810 - val_accuracy: 0.6364\n",
      "Epoch 64/100\n",
      "392/392 [==============================] - 0s 132us/step - loss: 0.9867 - accuracy: 0.6224 - val_loss: 1.2956 - val_accuracy: 0.6768\n",
      "Epoch 65/100\n",
      "392/392 [==============================] - 0s 154us/step - loss: 1.0380 - accuracy: 0.6301 - val_loss: 1.0904 - val_accuracy: 0.6263\n",
      "Epoch 66/100\n",
      "392/392 [==============================] - 0s 115us/step - loss: 1.4912 - accuracy: 0.5842 - val_loss: 1.0516 - val_accuracy: 0.6061\n",
      "Epoch 67/100\n",
      "392/392 [==============================] - 0s 113us/step - loss: 1.0630 - accuracy: 0.5638 - val_loss: 0.8713 - val_accuracy: 0.6061\n",
      "Epoch 68/100\n",
      "392/392 [==============================] - 0s 99us/step - loss: 1.2822 - accuracy: 0.6199 - val_loss: 1.8794 - val_accuracy: 0.6667\n",
      "Epoch 69/100\n",
      "392/392 [==============================] - 0s 126us/step - loss: 1.0820 - accuracy: 0.6250 - val_loss: 0.8669 - val_accuracy: 0.5657\n",
      "Epoch 70/100\n",
      "392/392 [==============================] - 0s 111us/step - loss: 0.9042 - accuracy: 0.6199 - val_loss: 1.1554 - val_accuracy: 0.6869\n",
      "Epoch 71/100\n",
      "392/392 [==============================] - 0s 102us/step - loss: 1.2790 - accuracy: 0.5995 - val_loss: 1.2574 - val_accuracy: 0.4242\n",
      "Epoch 72/100\n",
      "392/392 [==============================] - 0s 109us/step - loss: 1.3387 - accuracy: 0.6097 - val_loss: 1.4656 - val_accuracy: 0.6566\n",
      "Epoch 73/100\n",
      "392/392 [==============================] - 0s 109us/step - loss: 1.1462 - accuracy: 0.6148 - val_loss: 1.0606 - val_accuracy: 0.4444\n",
      "Epoch 74/100\n",
      "392/392 [==============================] - 0s 116us/step - loss: 1.0592 - accuracy: 0.6148 - val_loss: 1.3139 - val_accuracy: 0.6768\n",
      "Epoch 75/100\n",
      "392/392 [==============================] - 0s 102us/step - loss: 1.2111 - accuracy: 0.5995 - val_loss: 0.9205 - val_accuracy: 0.4747\n",
      "Epoch 76/100\n",
      "392/392 [==============================] - 0s 107us/step - loss: 1.0549 - accuracy: 0.6276 - val_loss: 0.9003 - val_accuracy: 0.6061\n",
      "Epoch 77/100\n",
      "392/392 [==============================] - 0s 90us/step - loss: 1.2437 - accuracy: 0.6403 - val_loss: 1.2838 - val_accuracy: 0.3939\n",
      "Epoch 78/100\n",
      "392/392 [==============================] - 0s 101us/step - loss: 1.0549 - accuracy: 0.6250 - val_loss: 0.8892 - val_accuracy: 0.5657\n",
      "Epoch 79/100\n",
      "392/392 [==============================] - 0s 115us/step - loss: 0.9863 - accuracy: 0.6122 - val_loss: 1.3627 - val_accuracy: 0.6768\n",
      "Epoch 80/100\n",
      "392/392 [==============================] - 0s 99us/step - loss: 1.1043 - accuracy: 0.5918 - val_loss: 0.8717 - val_accuracy: 0.6667\n",
      "Epoch 81/100\n",
      "392/392 [==============================] - 0s 100us/step - loss: 1.1121 - accuracy: 0.6071 - val_loss: 0.8997 - val_accuracy: 0.4545\n",
      "Epoch 82/100\n",
      "392/392 [==============================] - 0s 96us/step - loss: 1.2933 - accuracy: 0.5918 - val_loss: 1.1593 - val_accuracy: 0.6566\n",
      "Epoch 83/100\n",
      "392/392 [==============================] - 0s 121us/step - loss: 1.2243 - accuracy: 0.5842 - val_loss: 1.0692 - val_accuracy: 0.6566\n",
      "Epoch 84/100\n",
      "392/392 [==============================] - 0s 119us/step - loss: 0.9141 - accuracy: 0.6199 - val_loss: 0.8341 - val_accuracy: 0.5758\n",
      "Epoch 85/100\n",
      "392/392 [==============================] - 0s 99us/step - loss: 1.0547 - accuracy: 0.5995 - val_loss: 0.9148 - val_accuracy: 0.5657\n",
      "Epoch 86/100\n",
      "392/392 [==============================] - 0s 88us/step - loss: 1.1991 - accuracy: 0.6224 - val_loss: 1.1319 - val_accuracy: 0.6869\n",
      "Epoch 87/100\n",
      "392/392 [==============================] - 0s 107us/step - loss: 0.9603 - accuracy: 0.5893 - val_loss: 1.5075 - val_accuracy: 0.6768\n",
      "Epoch 88/100\n",
      "392/392 [==============================] - 0s 108us/step - loss: 1.0433 - accuracy: 0.6199 - val_loss: 3.3537 - val_accuracy: 0.3434\n",
      "Epoch 89/100\n",
      "392/392 [==============================] - 0s 95us/step - loss: 2.7531 - accuracy: 0.5689 - val_loss: 1.4617 - val_accuracy: 0.5859\n",
      "Epoch 90/100\n",
      "392/392 [==============================] - 0s 127us/step - loss: 1.6982 - accuracy: 0.5714 - val_loss: 1.6405 - val_accuracy: 0.3636\n",
      "Epoch 91/100\n",
      "392/392 [==============================] - 0s 128us/step - loss: 1.8012 - accuracy: 0.5459 - val_loss: 3.0634 - val_accuracy: 0.6667\n",
      "Epoch 92/100\n",
      "392/392 [==============================] - 0s 117us/step - loss: 1.4472 - accuracy: 0.6173 - val_loss: 1.0348 - val_accuracy: 0.5657\n",
      "Epoch 93/100\n",
      "392/392 [==============================] - 0s 107us/step - loss: 1.1334 - accuracy: 0.5995 - val_loss: 1.0077 - val_accuracy: 0.6869\n",
      "Epoch 94/100\n",
      "392/392 [==============================] - 0s 91us/step - loss: 0.9343 - accuracy: 0.6276 - val_loss: 1.0867 - val_accuracy: 0.6364\n",
      "Epoch 95/100\n",
      "392/392 [==============================] - 0s 102us/step - loss: 0.9386 - accuracy: 0.6480 - val_loss: 1.3695 - val_accuracy: 0.6869\n",
      "Epoch 96/100\n",
      "392/392 [==============================] - 0s 103us/step - loss: 1.2546 - accuracy: 0.5995 - val_loss: 0.8296 - val_accuracy: 0.5556\n",
      "Epoch 97/100\n",
      "392/392 [==============================] - 0s 103us/step - loss: 0.9335 - accuracy: 0.5995 - val_loss: 1.0170 - val_accuracy: 0.6768\n",
      "Epoch 98/100\n",
      "392/392 [==============================] - 0s 101us/step - loss: 0.9993 - accuracy: 0.6224 - val_loss: 0.8270 - val_accuracy: 0.6263\n",
      "Epoch 99/100\n",
      "392/392 [==============================] - 0s 110us/step - loss: 0.8554 - accuracy: 0.6122 - val_loss: 1.5052 - val_accuracy: 0.6768\n",
      "Epoch 100/100\n",
      "392/392 [==============================] - 0s 100us/step - loss: 1.0134 - accuracy: 0.5995 - val_loss: 0.8666 - val_accuracy: 0.6667\n"
     ]
    },
    {
     "data": {
      "text/plain": [
       "<keras.callbacks.callbacks.History at 0x23920c6aa08>"
      ]
     },
     "execution_count": 290,
     "metadata": {},
     "output_type": "execute_result"
    }
   ],
   "source": [
    "model.fit(X_train, y_train, validation_split=0.2, epochs=100)"
   ]
  },
  {
   "cell_type": "code",
   "execution_count": 274,
   "metadata": {},
   "outputs": [
    {
     "name": "stdout",
     "output_type": "stream",
     "text": [
      "491/491 [==============================] - 0s 55us/step\n"
     ]
    },
    {
     "data": {
      "text/plain": [
       "[0.6285042984908079, 0.676171064376831]"
      ]
     },
     "execution_count": 274,
     "metadata": {},
     "output_type": "execute_result"
    }
   ],
   "source": [
    "model.evaluate(X_train, y_train)"
   ]
  },
  {
   "cell_type": "code",
   "execution_count": 253,
   "metadata": {},
   "outputs": [
    {
     "data": {
      "text/plain": [
       "{'batch_size': 32,\n",
       " 'epochs': 100,\n",
       " 'steps': None,\n",
       " 'samples': 392,\n",
       " 'verbose': 1,\n",
       " 'do_validation': True,\n",
       " 'metrics': ['loss', 'accuracy', 'val_loss', 'val_accuracy']}"
      ]
     },
     "execution_count": 253,
     "metadata": {},
     "output_type": "execute_result"
    }
   ],
   "source": [
    "model.history.params"
   ]
  },
  {
   "cell_type": "code",
   "execution_count": 294,
   "metadata": {},
   "outputs": [
    {
     "data": {
      "text/plain": [
       "1.0    113\n",
       "0.0     10\n",
       "dtype: int64"
      ]
     },
     "execution_count": 294,
     "metadata": {},
     "output_type": "execute_result"
    }
   ],
   "source": [
    "pd.DataFrame(np.around(model.predict(X_val))).value_counts()"
   ]
  },
  {
   "cell_type": "code",
   "execution_count": 275,
   "metadata": {},
   "outputs": [
    {
     "name": "stdout",
     "output_type": "stream",
     "text": [
      "accuracy score train: 0.6761710794297352\n",
      "accuracy score val: 0.7317073170731707\n",
      "classification report train:               precision    recall  f1-score   support\n",
      "\n",
      "           0       0.00      0.00      0.00       159\n",
      "           1       0.68      1.00      0.81       332\n",
      "\n",
      "    accuracy                           0.68       491\n",
      "   macro avg       0.34      0.50      0.40       491\n",
      "weighted avg       0.46      0.68      0.55       491\n",
      "\n",
      "classification report val:               precision    recall  f1-score   support\n",
      "\n",
      "           0       0.00      0.00      0.00        33\n",
      "           1       0.73      1.00      0.85        90\n",
      "\n",
      "    accuracy                           0.73       123\n",
      "   macro avg       0.37      0.50      0.42       123\n",
      "weighted avg       0.54      0.73      0.62       123\n",
      "\n",
      "confusion  matrix val: [[ 0 33]\n",
      " [ 0 90]]\n"
     ]
    }
   ],
   "source": [
    "print(f'accuracy score train: {metrics.accuracy_score(y_train,np.around(model.predict(X_train)))}')\n",
    "print(f'accuracy score val: {metrics.accuracy_score(y_val,np.around(model.predict(X_val)))}')\n",
    "print(f'classification report train: {metrics.classification_report(y_train,np.around(model.predict(X_train)))}')\n",
    "\n",
    "print(f'classification report val: {metrics.classification_report(y_val,np.around(model.predict(X_val)))}')\n",
    "print(f'confusion  matrix val: {metrics.confusion_matrix(y_val,np.around(model.predict(X_val)))}')"
   ]
  },
  {
   "cell_type": "code",
   "execution_count": 276,
   "metadata": {},
   "outputs": [
    {
     "data": {
      "text/plain": [
       "1    332\n",
       "0    159\n",
       "Name: Loan_Status, dtype: int64"
      ]
     },
     "execution_count": 276,
     "metadata": {},
     "output_type": "execute_result"
    }
   ],
   "source": [
    "y_train.value_counts()"
   ]
  },
  {
   "cell_type": "code",
   "execution_count": 281,
   "metadata": {},
   "outputs": [
    {
     "data": {
      "text/plain": [
       "array([[0.692347  ],\n",
       "       [0.692347  ],\n",
       "       [0.692347  ],\n",
       "       [0.692347  ],\n",
       "       [0.692347  ],\n",
       "       [0.62903565],\n",
       "       [0.692347  ],\n",
       "       [0.692347  ],\n",
       "       [0.692347  ],\n",
       "       [0.56394494],\n",
       "       [0.692347  ],\n",
       "       [0.692347  ],\n",
       "       [0.692347  ],\n",
       "       [0.692347  ],\n",
       "       [0.692347  ],\n",
       "       [0.692347  ],\n",
       "       [0.692347  ],\n",
       "       [0.692347  ],\n",
       "       [0.692347  ],\n",
       "       [0.692347  ],\n",
       "       [0.6218238 ],\n",
       "       [0.692347  ],\n",
       "       [0.692347  ],\n",
       "       [0.692347  ],\n",
       "       [0.692347  ],\n",
       "       [0.692347  ],\n",
       "       [0.56394494],\n",
       "       [0.692347  ],\n",
       "       [0.692347  ],\n",
       "       [0.692347  ],\n",
       "       [0.692347  ],\n",
       "       [0.692347  ],\n",
       "       [0.692347  ],\n",
       "       [0.692347  ],\n",
       "       [0.692347  ],\n",
       "       [0.56394494],\n",
       "       [0.56394494],\n",
       "       [0.692347  ],\n",
       "       [0.692347  ],\n",
       "       [0.692347  ],\n",
       "       [0.692347  ],\n",
       "       [0.692347  ],\n",
       "       [0.692347  ],\n",
       "       [0.692347  ],\n",
       "       [0.692347  ],\n",
       "       [0.692347  ],\n",
       "       [0.692347  ],\n",
       "       [0.692347  ],\n",
       "       [0.692347  ],\n",
       "       [0.692347  ],\n",
       "       [0.692347  ],\n",
       "       [0.692347  ],\n",
       "       [0.692347  ],\n",
       "       [0.692347  ],\n",
       "       [0.56706184],\n",
       "       [0.692347  ],\n",
       "       [0.692347  ],\n",
       "       [0.692347  ],\n",
       "       [0.692347  ],\n",
       "       [0.692347  ],\n",
       "       [0.56394494],\n",
       "       [0.692347  ],\n",
       "       [0.692347  ],\n",
       "       [0.692347  ],\n",
       "       [0.692347  ],\n",
       "       [0.692347  ],\n",
       "       [0.56451833],\n",
       "       [0.692347  ],\n",
       "       [0.692347  ],\n",
       "       [0.692347  ],\n",
       "       [0.56394494],\n",
       "       [0.692347  ],\n",
       "       [0.692347  ],\n",
       "       [0.692347  ],\n",
       "       [0.692347  ],\n",
       "       [0.692347  ],\n",
       "       [0.56394494],\n",
       "       [0.692347  ],\n",
       "       [0.692347  ],\n",
       "       [0.692347  ],\n",
       "       [0.56394494],\n",
       "       [0.692347  ],\n",
       "       [0.692347  ],\n",
       "       [0.692347  ],\n",
       "       [0.692347  ],\n",
       "       [0.692347  ],\n",
       "       [0.692347  ],\n",
       "       [0.56394494],\n",
       "       [0.692347  ],\n",
       "       [0.692347  ],\n",
       "       [0.692347  ],\n",
       "       [0.692347  ],\n",
       "       [0.692347  ],\n",
       "       [0.692347  ],\n",
       "       [0.692347  ],\n",
       "       [0.692347  ],\n",
       "       [0.692347  ],\n",
       "       [0.692347  ],\n",
       "       [0.692347  ],\n",
       "       [0.692347  ],\n",
       "       [0.692347  ],\n",
       "       [0.692347  ],\n",
       "       [0.692347  ],\n",
       "       [0.692347  ],\n",
       "       [0.692347  ],\n",
       "       [0.692347  ],\n",
       "       [0.692347  ],\n",
       "       [0.692347  ],\n",
       "       [0.692347  ],\n",
       "       [0.692347  ],\n",
       "       [0.692347  ],\n",
       "       [0.692347  ],\n",
       "       [0.692347  ],\n",
       "       [0.692347  ],\n",
       "       [0.5708431 ],\n",
       "       [0.692347  ],\n",
       "       [0.692347  ],\n",
       "       [0.692347  ],\n",
       "       [0.56394494],\n",
       "       [0.692347  ],\n",
       "       [0.692347  ],\n",
       "       [0.692347  ],\n",
       "       [0.692347  ]], dtype=float32)"
      ]
     },
     "execution_count": 281,
     "metadata": {},
     "output_type": "execute_result"
    }
   ],
   "source": [
    "model.predict(X_val).value_counts()"
   ]
  },
  {
   "cell_type": "code",
   "execution_count": 295,
   "metadata": {},
   "outputs": [
    {
     "data": {
      "text/html": [
       "<div>\n",
       "<style scoped>\n",
       "    .dataframe tbody tr th:only-of-type {\n",
       "        vertical-align: middle;\n",
       "    }\n",
       "\n",
       "    .dataframe tbody tr th {\n",
       "        vertical-align: top;\n",
       "    }\n",
       "\n",
       "    .dataframe thead th {\n",
       "        text-align: right;\n",
       "    }\n",
       "</style>\n",
       "<table border=\"1\" class=\"dataframe\">\n",
       "  <thead>\n",
       "    <tr style=\"text-align: right;\">\n",
       "      <th></th>\n",
       "      <th>Loan_ID</th>\n",
       "      <th>Gender</th>\n",
       "      <th>Married</th>\n",
       "      <th>Dependents</th>\n",
       "      <th>Education</th>\n",
       "      <th>Self_Employed</th>\n",
       "      <th>ApplicantIncome</th>\n",
       "      <th>CoapplicantIncome</th>\n",
       "      <th>LoanAmount</th>\n",
       "      <th>Loan_Amount_Term</th>\n",
       "      <th>Credit_History</th>\n",
       "      <th>Property_Area</th>\n",
       "      <th>Loan_Status</th>\n",
       "    </tr>\n",
       "  </thead>\n",
       "  <tbody>\n",
       "    <tr>\n",
       "      <th>0</th>\n",
       "      <td>LP001002</td>\n",
       "      <td>1</td>\n",
       "      <td>0</td>\n",
       "      <td>0</td>\n",
       "      <td>0</td>\n",
       "      <td>0</td>\n",
       "      <td>5849</td>\n",
       "      <td>0.0</td>\n",
       "      <td>128.0</td>\n",
       "      <td>8</td>\n",
       "      <td>1</td>\n",
       "      <td>2</td>\n",
       "      <td>1</td>\n",
       "    </tr>\n",
       "    <tr>\n",
       "      <th>1</th>\n",
       "      <td>LP001003</td>\n",
       "      <td>1</td>\n",
       "      <td>1</td>\n",
       "      <td>1</td>\n",
       "      <td>0</td>\n",
       "      <td>0</td>\n",
       "      <td>4583</td>\n",
       "      <td>1508.0</td>\n",
       "      <td>128.0</td>\n",
       "      <td>8</td>\n",
       "      <td>1</td>\n",
       "      <td>0</td>\n",
       "      <td>0</td>\n",
       "    </tr>\n",
       "    <tr>\n",
       "      <th>2</th>\n",
       "      <td>LP001005</td>\n",
       "      <td>1</td>\n",
       "      <td>1</td>\n",
       "      <td>0</td>\n",
       "      <td>0</td>\n",
       "      <td>1</td>\n",
       "      <td>3000</td>\n",
       "      <td>0.0</td>\n",
       "      <td>66.0</td>\n",
       "      <td>8</td>\n",
       "      <td>1</td>\n",
       "      <td>2</td>\n",
       "      <td>1</td>\n",
       "    </tr>\n",
       "    <tr>\n",
       "      <th>3</th>\n",
       "      <td>LP001006</td>\n",
       "      <td>1</td>\n",
       "      <td>1</td>\n",
       "      <td>0</td>\n",
       "      <td>1</td>\n",
       "      <td>0</td>\n",
       "      <td>2583</td>\n",
       "      <td>2358.0</td>\n",
       "      <td>120.0</td>\n",
       "      <td>8</td>\n",
       "      <td>1</td>\n",
       "      <td>2</td>\n",
       "      <td>1</td>\n",
       "    </tr>\n",
       "    <tr>\n",
       "      <th>4</th>\n",
       "      <td>LP001008</td>\n",
       "      <td>1</td>\n",
       "      <td>0</td>\n",
       "      <td>0</td>\n",
       "      <td>0</td>\n",
       "      <td>0</td>\n",
       "      <td>6000</td>\n",
       "      <td>0.0</td>\n",
       "      <td>141.0</td>\n",
       "      <td>8</td>\n",
       "      <td>1</td>\n",
       "      <td>2</td>\n",
       "      <td>1</td>\n",
       "    </tr>\n",
       "    <tr>\n",
       "      <th>...</th>\n",
       "      <td>...</td>\n",
       "      <td>...</td>\n",
       "      <td>...</td>\n",
       "      <td>...</td>\n",
       "      <td>...</td>\n",
       "      <td>...</td>\n",
       "      <td>...</td>\n",
       "      <td>...</td>\n",
       "      <td>...</td>\n",
       "      <td>...</td>\n",
       "      <td>...</td>\n",
       "      <td>...</td>\n",
       "      <td>...</td>\n",
       "    </tr>\n",
       "    <tr>\n",
       "      <th>609</th>\n",
       "      <td>LP002978</td>\n",
       "      <td>0</td>\n",
       "      <td>0</td>\n",
       "      <td>0</td>\n",
       "      <td>0</td>\n",
       "      <td>0</td>\n",
       "      <td>2900</td>\n",
       "      <td>0.0</td>\n",
       "      <td>71.0</td>\n",
       "      <td>8</td>\n",
       "      <td>1</td>\n",
       "      <td>0</td>\n",
       "      <td>1</td>\n",
       "    </tr>\n",
       "    <tr>\n",
       "      <th>610</th>\n",
       "      <td>LP002979</td>\n",
       "      <td>1</td>\n",
       "      <td>1</td>\n",
       "      <td>3</td>\n",
       "      <td>0</td>\n",
       "      <td>0</td>\n",
       "      <td>4106</td>\n",
       "      <td>0.0</td>\n",
       "      <td>40.0</td>\n",
       "      <td>5</td>\n",
       "      <td>1</td>\n",
       "      <td>0</td>\n",
       "      <td>1</td>\n",
       "    </tr>\n",
       "    <tr>\n",
       "      <th>611</th>\n",
       "      <td>LP002983</td>\n",
       "      <td>1</td>\n",
       "      <td>1</td>\n",
       "      <td>1</td>\n",
       "      <td>0</td>\n",
       "      <td>0</td>\n",
       "      <td>8072</td>\n",
       "      <td>240.0</td>\n",
       "      <td>253.0</td>\n",
       "      <td>8</td>\n",
       "      <td>1</td>\n",
       "      <td>2</td>\n",
       "      <td>1</td>\n",
       "    </tr>\n",
       "    <tr>\n",
       "      <th>612</th>\n",
       "      <td>LP002984</td>\n",
       "      <td>1</td>\n",
       "      <td>1</td>\n",
       "      <td>2</td>\n",
       "      <td>0</td>\n",
       "      <td>0</td>\n",
       "      <td>7583</td>\n",
       "      <td>0.0</td>\n",
       "      <td>187.0</td>\n",
       "      <td>8</td>\n",
       "      <td>1</td>\n",
       "      <td>2</td>\n",
       "      <td>1</td>\n",
       "    </tr>\n",
       "    <tr>\n",
       "      <th>613</th>\n",
       "      <td>LP002990</td>\n",
       "      <td>0</td>\n",
       "      <td>0</td>\n",
       "      <td>0</td>\n",
       "      <td>0</td>\n",
       "      <td>1</td>\n",
       "      <td>4583</td>\n",
       "      <td>0.0</td>\n",
       "      <td>133.0</td>\n",
       "      <td>8</td>\n",
       "      <td>0</td>\n",
       "      <td>1</td>\n",
       "      <td>0</td>\n",
       "    </tr>\n",
       "  </tbody>\n",
       "</table>\n",
       "<p>614 rows × 13 columns</p>\n",
       "</div>"
      ],
      "text/plain": [
       "      Loan_ID  Gender  Married  Dependents  Education  Self_Employed  \\\n",
       "0    LP001002       1        0           0          0              0   \n",
       "1    LP001003       1        1           1          0              0   \n",
       "2    LP001005       1        1           0          0              1   \n",
       "3    LP001006       1        1           0          1              0   \n",
       "4    LP001008       1        0           0          0              0   \n",
       "..        ...     ...      ...         ...        ...            ...   \n",
       "609  LP002978       0        0           0          0              0   \n",
       "610  LP002979       1        1           3          0              0   \n",
       "611  LP002983       1        1           1          0              0   \n",
       "612  LP002984       1        1           2          0              0   \n",
       "613  LP002990       0        0           0          0              1   \n",
       "\n",
       "     ApplicantIncome  CoapplicantIncome  LoanAmount  Loan_Amount_Term  \\\n",
       "0               5849                0.0       128.0                 8   \n",
       "1               4583             1508.0       128.0                 8   \n",
       "2               3000                0.0        66.0                 8   \n",
       "3               2583             2358.0       120.0                 8   \n",
       "4               6000                0.0       141.0                 8   \n",
       "..               ...                ...         ...               ...   \n",
       "609             2900                0.0        71.0                 8   \n",
       "610             4106                0.0        40.0                 5   \n",
       "611             8072              240.0       253.0                 8   \n",
       "612             7583                0.0       187.0                 8   \n",
       "613             4583                0.0       133.0                 8   \n",
       "\n",
       "     Credit_History  Property_Area  Loan_Status  \n",
       "0                 1              2            1  \n",
       "1                 1              0            0  \n",
       "2                 1              2            1  \n",
       "3                 1              2            1  \n",
       "4                 1              2            1  \n",
       "..              ...            ...          ...  \n",
       "609               1              0            1  \n",
       "610               1              0            1  \n",
       "611               1              2            1  \n",
       "612               1              2            1  \n",
       "613               0              1            0  \n",
       "\n",
       "[614 rows x 13 columns]"
      ]
     },
     "execution_count": 295,
     "metadata": {},
     "output_type": "execute_result"
    }
   ],
   "source": [
    "train"
   ]
  },
  {
   "cell_type": "code",
   "execution_count": null,
   "metadata": {},
   "outputs": [],
   "source": []
  },
  {
   "cell_type": "code",
   "execution_count": 303,
   "metadata": {},
   "outputs": [
    {
     "name": "stdout",
     "output_type": "stream",
     "text": [
      "Index(['Loan_ID', 'Gender', 'Married', 'Dependents', 'Education',\n",
      "       'Self_Employed', 'ApplicantIncome', 'CoapplicantIncome', 'LoanAmount',\n",
      "       'Loan_Amount_Term', 'Credit_History', 'Property_Area', 'Loan_Status'],\n",
      "      dtype='object')\n"
     ]
    }
   ],
   "source": [
    "column_names=[train.columns+'_'+i for i in train.]"
   ]
  },
  {
   "cell_type": "code",
   "execution_count": 305,
   "metadata": {},
   "outputs": [
    {
     "name": "stdout",
     "output_type": "stream",
     "text": [
      "Train on 491 samples, validate on 123 samples\n",
      "Epoch 1/100\n",
      "491/491 [==============================] - 0s 89us/step - loss: 1.2586 - accuracy: 0.5743 - val_loss: 1.4200 - val_accuracy: 0.3577\n",
      "Epoch 2/100\n",
      "491/491 [==============================] - 0s 69us/step - loss: 1.0952 - accuracy: 0.6008 - val_loss: 1.1662 - val_accuracy: 0.5691\n",
      "Epoch 3/100\n",
      "491/491 [==============================] - 0s 89us/step - loss: 1.0972 - accuracy: 0.6375 - val_loss: 1.0088 - val_accuracy: 0.6098\n",
      "Epoch 4/100\n",
      "491/491 [==============================] - 0s 87us/step - loss: 1.2731 - accuracy: 0.5662 - val_loss: 1.0816 - val_accuracy: 0.7154\n",
      "Epoch 5/100\n",
      "491/491 [==============================] - 0s 91us/step - loss: 0.8551 - accuracy: 0.6477 - val_loss: 0.7905 - val_accuracy: 0.5366\n",
      "Epoch 6/100\n",
      "491/491 [==============================] - 0s 95us/step - loss: 0.7792 - accuracy: 0.6395 - val_loss: 0.9668 - val_accuracy: 0.7398\n",
      "Epoch 7/100\n",
      "491/491 [==============================] - 0s 77us/step - loss: 0.8897 - accuracy: 0.6314 - val_loss: 0.6114 - val_accuracy: 0.6992\n",
      "Epoch 8/100\n",
      "491/491 [==============================] - 0s 93us/step - loss: 0.7794 - accuracy: 0.6273 - val_loss: 0.8585 - val_accuracy: 0.6585\n",
      "Epoch 9/100\n",
      "491/491 [==============================] - 0s 95us/step - loss: 1.2814 - accuracy: 0.5967 - val_loss: 1.0102 - val_accuracy: 0.4472\n",
      "Epoch 10/100\n",
      "491/491 [==============================] - 0s 91us/step - loss: 1.0646 - accuracy: 0.6029 - val_loss: 0.7969 - val_accuracy: 0.6504\n",
      "Epoch 11/100\n",
      "491/491 [==============================] - 0s 79us/step - loss: 0.7189 - accuracy: 0.6538 - val_loss: 0.6519 - val_accuracy: 0.6748\n",
      "Epoch 12/100\n",
      "491/491 [==============================] - 0s 79us/step - loss: 0.7696 - accuracy: 0.6273 - val_loss: 0.8820 - val_accuracy: 0.5772\n",
      "Epoch 13/100\n",
      "491/491 [==============================] - 0s 91us/step - loss: 0.8046 - accuracy: 0.6171 - val_loss: 0.8820 - val_accuracy: 0.7236\n",
      "Epoch 14/100\n",
      "491/491 [==============================] - 0s 93us/step - loss: 1.4883 - accuracy: 0.6171 - val_loss: 1.0146 - val_accuracy: 0.6423\n",
      "Epoch 15/100\n",
      "491/491 [==============================] - 0s 93us/step - loss: 1.0687 - accuracy: 0.5906 - val_loss: 0.7173 - val_accuracy: 0.6423\n",
      "Epoch 16/100\n",
      "491/491 [==============================] - 0s 75us/step - loss: 1.2152 - accuracy: 0.6110 - val_loss: 2.5418 - val_accuracy: 0.7317\n",
      "Epoch 17/100\n",
      "491/491 [==============================] - 0s 97us/step - loss: 1.5236 - accuracy: 0.5906 - val_loss: 0.7430 - val_accuracy: 0.6992\n",
      "Epoch 18/100\n",
      "491/491 [==============================] - 0s 102us/step - loss: 1.9510 - accuracy: 0.5988 - val_loss: 2.6165 - val_accuracy: 0.7317\n",
      "Epoch 19/100\n",
      "491/491 [==============================] - 0s 92us/step - loss: 2.0320 - accuracy: 0.5947 - val_loss: 1.8407 - val_accuracy: 0.3252\n",
      "Epoch 20/100\n",
      "491/491 [==============================] - 0s 77us/step - loss: 1.1600 - accuracy: 0.5825 - val_loss: 0.8734 - val_accuracy: 0.5610\n",
      "Epoch 21/100\n",
      "491/491 [==============================] - 0s 83us/step - loss: 1.0733 - accuracy: 0.6191 - val_loss: 1.3296 - val_accuracy: 0.4472\n",
      "Epoch 22/100\n",
      "491/491 [==============================] - 0s 95us/step - loss: 0.9753 - accuracy: 0.5845 - val_loss: 0.6947 - val_accuracy: 0.6748\n",
      "Epoch 23/100\n",
      "491/491 [==============================] - 0s 81us/step - loss: 0.8844 - accuracy: 0.6069 - val_loss: 0.6063 - val_accuracy: 0.7154\n",
      "Epoch 24/100\n",
      "491/491 [==============================] - 0s 79us/step - loss: 0.7929 - accuracy: 0.6395 - val_loss: 0.8109 - val_accuracy: 0.5528\n",
      "Epoch 25/100\n",
      "491/491 [==============================] - 0s 95us/step - loss: 1.1203 - accuracy: 0.5743 - val_loss: 1.2253 - val_accuracy: 0.4878\n",
      "Epoch 26/100\n",
      "491/491 [==============================] - 0s 73us/step - loss: 0.8235 - accuracy: 0.6517 - val_loss: 0.8475 - val_accuracy: 0.7236\n",
      "Epoch 27/100\n",
      "491/491 [==============================] - 0s 77us/step - loss: 1.2659 - accuracy: 0.6171 - val_loss: 1.6116 - val_accuracy: 0.7317\n",
      "Epoch 28/100\n",
      "491/491 [==============================] - 0s 106us/step - loss: 1.3031 - accuracy: 0.5906 - val_loss: 1.0651 - val_accuracy: 0.6179\n",
      "Epoch 29/100\n",
      "491/491 [==============================] - 0s 93us/step - loss: 0.7812 - accuracy: 0.6456 - val_loss: 1.1258 - val_accuracy: 0.6748\n",
      "Epoch 30/100\n",
      "491/491 [==============================] - 0s 108us/step - loss: 1.2225 - accuracy: 0.5906 - val_loss: 1.3445 - val_accuracy: 0.5122\n",
      "Epoch 31/100\n",
      "491/491 [==============================] - 0s 106us/step - loss: 1.3318 - accuracy: 0.5540 - val_loss: 1.4582 - val_accuracy: 0.3252\n",
      "Epoch 32/100\n",
      "491/491 [==============================] - 0s 100us/step - loss: 1.1379 - accuracy: 0.6415 - val_loss: 1.2906 - val_accuracy: 0.4715\n",
      "Epoch 33/100\n",
      "491/491 [==============================] - 0s 77us/step - loss: 1.3148 - accuracy: 0.6130 - val_loss: 1.3847 - val_accuracy: 0.4797\n",
      "Epoch 34/100\n",
      "491/491 [==============================] - 0s 106us/step - loss: 1.3691 - accuracy: 0.5621 - val_loss: 1.7229 - val_accuracy: 0.7236\n",
      "Epoch 35/100\n",
      "491/491 [==============================] - 0s 100us/step - loss: 1.4488 - accuracy: 0.6090 - val_loss: 1.1999 - val_accuracy: 0.4878\n",
      "Epoch 36/100\n",
      "491/491 [==============================] - 0s 81us/step - loss: 1.0788 - accuracy: 0.6008 - val_loss: 1.4182 - val_accuracy: 0.3252\n",
      "Epoch 37/100\n",
      "491/491 [==============================] - 0s 106us/step - loss: 1.6421 - accuracy: 0.5458 - val_loss: 1.2022 - val_accuracy: 0.7236\n",
      "Epoch 38/100\n",
      "491/491 [==============================] - 0s 102us/step - loss: 1.0881 - accuracy: 0.6029 - val_loss: 1.1451 - val_accuracy: 0.4878\n",
      "Epoch 39/100\n",
      "491/491 [==============================] - 0s 106us/step - loss: 0.9518 - accuracy: 0.5866 - val_loss: 1.3863 - val_accuracy: 0.3984\n",
      "Epoch 40/100\n",
      "491/491 [==============================] - 0s 87us/step - loss: 0.8528 - accuracy: 0.6375 - val_loss: 1.0947 - val_accuracy: 0.6016\n",
      "Epoch 41/100\n",
      "491/491 [==============================] - 0s 95us/step - loss: 1.3189 - accuracy: 0.5866 - val_loss: 1.1153 - val_accuracy: 0.6585\n",
      "Epoch 42/100\n",
      "491/491 [==============================] - 0s 91us/step - loss: 1.1936 - accuracy: 0.5662 - val_loss: 0.9447 - val_accuracy: 0.6829\n",
      "Epoch 43/100\n",
      "491/491 [==============================] - 0s 93us/step - loss: 0.7836 - accuracy: 0.6436 - val_loss: 1.8688 - val_accuracy: 0.3252\n",
      "Epoch 44/100\n",
      "491/491 [==============================] - 0s 110us/step - loss: 1.1266 - accuracy: 0.5967 - val_loss: 1.0647 - val_accuracy: 0.6667\n",
      "Epoch 45/100\n",
      "491/491 [==============================] - 0s 114us/step - loss: 1.3059 - accuracy: 0.6110 - val_loss: 1.3345 - val_accuracy: 0.7317\n",
      "Epoch 46/100\n",
      "491/491 [==============================] - 0s 110us/step - loss: 1.7045 - accuracy: 0.5723 - val_loss: 0.8724 - val_accuracy: 0.6016\n",
      "Epoch 47/100\n",
      "491/491 [==============================] - 0s 114us/step - loss: 1.2604 - accuracy: 0.6212 - val_loss: 1.1626 - val_accuracy: 0.3740\n",
      "Epoch 48/100\n",
      "491/491 [==============================] - 0s 97us/step - loss: 2.0536 - accuracy: 0.5743 - val_loss: 1.6263 - val_accuracy: 0.3415\n",
      "Epoch 49/100\n",
      "491/491 [==============================] - 0s 97us/step - loss: 1.5021 - accuracy: 0.6029 - val_loss: 0.8535 - val_accuracy: 0.6829\n",
      "Epoch 50/100\n",
      "491/491 [==============================] - 0s 122us/step - loss: 0.9522 - accuracy: 0.6293 - val_loss: 1.2517 - val_accuracy: 0.7236\n",
      "Epoch 51/100\n",
      "491/491 [==============================] - 0s 108us/step - loss: 1.5152 - accuracy: 0.5764 - val_loss: 1.3870 - val_accuracy: 0.7317\n",
      "Epoch 52/100\n",
      "491/491 [==============================] - 0s 114us/step - loss: 1.4299 - accuracy: 0.5988 - val_loss: 0.9197 - val_accuracy: 0.7398\n",
      "Epoch 53/100\n",
      "491/491 [==============================] - 0s 128us/step - loss: 1.1054 - accuracy: 0.6171 - val_loss: 1.0074 - val_accuracy: 0.6341\n",
      "Epoch 54/100\n",
      "491/491 [==============================] - 0s 110us/step - loss: 0.8667 - accuracy: 0.6293 - val_loss: 0.9196 - val_accuracy: 0.6992\n",
      "Epoch 55/100\n",
      "491/491 [==============================] - 0s 104us/step - loss: 0.7945 - accuracy: 0.6334 - val_loss: 1.0286 - val_accuracy: 0.6016\n",
      "Epoch 56/100\n",
      "491/491 [==============================] - 0s 110us/step - loss: 0.7475 - accuracy: 0.6354 - val_loss: 1.1684 - val_accuracy: 0.7154\n",
      "Epoch 57/100\n"
     ]
    },
    {
     "name": "stdout",
     "output_type": "stream",
     "text": [
      "491/491 [==============================] - 0s 108us/step - loss: 1.1158 - accuracy: 0.6599 - val_loss: 0.7618 - val_accuracy: 0.7317\n",
      "Epoch 58/100\n",
      "491/491 [==============================] - 0s 122us/step - loss: 0.7856 - accuracy: 0.6578 - val_loss: 0.7651 - val_accuracy: 0.6260\n",
      "Epoch 59/100\n",
      "491/491 [==============================] - 0s 108us/step - loss: 1.4236 - accuracy: 0.6253 - val_loss: 2.1247 - val_accuracy: 0.2846\n",
      "Epoch 60/100\n",
      "491/491 [==============================] - 0s 100us/step - loss: 1.2929 - accuracy: 0.5662 - val_loss: 1.4122 - val_accuracy: 0.7317\n",
      "Epoch 61/100\n",
      "491/491 [==============================] - 0s 108us/step - loss: 0.9955 - accuracy: 0.5947 - val_loss: 0.9193 - val_accuracy: 0.6423\n",
      "Epoch 62/100\n",
      "491/491 [==============================] - 0s 102us/step - loss: 0.8096 - accuracy: 0.6314 - val_loss: 0.8540 - val_accuracy: 0.6748\n",
      "Epoch 63/100\n",
      "491/491 [==============================] - 0s 146us/step - loss: 0.9734 - accuracy: 0.6130 - val_loss: 1.7235 - val_accuracy: 0.7317\n",
      "Epoch 64/100\n",
      "491/491 [==============================] - 0s 116us/step - loss: 1.3242 - accuracy: 0.5927 - val_loss: 0.7258 - val_accuracy: 0.6992\n",
      "Epoch 65/100\n",
      "491/491 [==============================] - 0s 124us/step - loss: 1.0871 - accuracy: 0.6375 - val_loss: 3.0144 - val_accuracy: 0.2764\n",
      "Epoch 66/100\n",
      "491/491 [==============================] - 0s 108us/step - loss: 1.8717 - accuracy: 0.5682 - val_loss: 0.6734 - val_accuracy: 0.7236\n",
      "Epoch 67/100\n",
      "491/491 [==============================] - 0s 120us/step - loss: 1.0982 - accuracy: 0.6314 - val_loss: 0.8670 - val_accuracy: 0.6992\n",
      "Epoch 68/100\n",
      "491/491 [==============================] - 0s 115us/step - loss: 0.8937 - accuracy: 0.5906 - val_loss: 0.8171 - val_accuracy: 0.7236\n",
      "Epoch 69/100\n",
      "491/491 [==============================] - 0s 125us/step - loss: 1.0532 - accuracy: 0.6436 - val_loss: 0.9252 - val_accuracy: 0.6423\n",
      "Epoch 70/100\n",
      "491/491 [==============================] - 0s 106us/step - loss: 0.8801 - accuracy: 0.6151 - val_loss: 1.0272 - val_accuracy: 0.6260\n",
      "Epoch 71/100\n",
      "491/491 [==============================] - 0s 106us/step - loss: 0.7208 - accuracy: 0.6599 - val_loss: 0.9423 - val_accuracy: 0.6341\n",
      "Epoch 72/100\n",
      "491/491 [==============================] - 0s 121us/step - loss: 0.7459 - accuracy: 0.6395 - val_loss: 0.9640 - val_accuracy: 0.6098\n",
      "Epoch 73/100\n",
      "491/491 [==============================] - 0s 160us/step - loss: 0.8504 - accuracy: 0.6497 - val_loss: 1.8869 - val_accuracy: 0.2764\n",
      "Epoch 74/100\n",
      "491/491 [==============================] - 0s 104us/step - loss: 1.0285 - accuracy: 0.6191 - val_loss: 1.0632 - val_accuracy: 0.7236\n",
      "Epoch 75/100\n",
      "491/491 [==============================] - 0s 110us/step - loss: 1.5305 - accuracy: 0.5906 - val_loss: 1.6770 - val_accuracy: 0.3740\n",
      "Epoch 76/100\n",
      "491/491 [==============================] - 0s 104us/step - loss: 1.2156 - accuracy: 0.5927 - val_loss: 1.2281 - val_accuracy: 0.3821\n",
      "Epoch 77/100\n",
      "491/491 [==============================] - 0s 112us/step - loss: 0.8977 - accuracy: 0.5743 - val_loss: 0.6831 - val_accuracy: 0.6341\n",
      "Epoch 78/100\n",
      "491/491 [==============================] - 0s 142us/step - loss: 0.8329 - accuracy: 0.6599 - val_loss: 0.7748 - val_accuracy: 0.6423\n",
      "Epoch 79/100\n",
      "491/491 [==============================] - 0s 110us/step - loss: 0.8814 - accuracy: 0.6334 - val_loss: 0.6165 - val_accuracy: 0.6585\n",
      "Epoch 80/100\n",
      "491/491 [==============================] - 0s 106us/step - loss: 0.7047 - accuracy: 0.6640 - val_loss: 0.7258 - val_accuracy: 0.6911\n",
      "Epoch 81/100\n",
      "491/491 [==============================] - 0s 112us/step - loss: 0.8025 - accuracy: 0.6599 - val_loss: 0.6101 - val_accuracy: 0.7236\n",
      "Epoch 82/100\n",
      "491/491 [==============================] - 0s 110us/step - loss: 0.8771 - accuracy: 0.6008 - val_loss: 0.9151 - val_accuracy: 0.7398\n",
      "Epoch 83/100\n",
      "491/491 [==============================] - 0s 118us/step - loss: 1.1869 - accuracy: 0.5906 - val_loss: 0.9350 - val_accuracy: 0.4959\n",
      "Epoch 84/100\n",
      "491/491 [==============================] - 0s 100us/step - loss: 0.8243 - accuracy: 0.6171 - val_loss: 1.5305 - val_accuracy: 0.3171\n",
      "Epoch 85/100\n",
      "491/491 [==============================] - 0s 110us/step - loss: 2.2789 - accuracy: 0.6212 - val_loss: 0.7329 - val_accuracy: 0.7317\n",
      "Epoch 86/100\n",
      "491/491 [==============================] - 0s 100us/step - loss: 1.1064 - accuracy: 0.6090 - val_loss: 0.8849 - val_accuracy: 0.6911\n",
      "Epoch 87/100\n",
      "491/491 [==============================] - 0s 97us/step - loss: 0.9568 - accuracy: 0.6253 - val_loss: 0.7963 - val_accuracy: 0.6829\n",
      "Epoch 88/100\n",
      "491/491 [==============================] - 0s 112us/step - loss: 0.9208 - accuracy: 0.6517 - val_loss: 1.1352 - val_accuracy: 0.7154\n",
      "Epoch 89/100\n",
      "491/491 [==============================] - 0s 106us/step - loss: 1.0872 - accuracy: 0.5845 - val_loss: 2.3076 - val_accuracy: 0.7317\n",
      "Epoch 90/100\n",
      "491/491 [==============================] - 0s 106us/step - loss: 1.6913 - accuracy: 0.5906 - val_loss: 2.3375 - val_accuracy: 0.2764\n",
      "Epoch 91/100\n",
      "491/491 [==============================] - 0s 95us/step - loss: 1.6913 - accuracy: 0.5825 - val_loss: 1.3184 - val_accuracy: 0.7398\n",
      "Epoch 92/100\n",
      "491/491 [==============================] - 0s 95us/step - loss: 1.2120 - accuracy: 0.5499 - val_loss: 0.7759 - val_accuracy: 0.7317\n",
      "Epoch 93/100\n",
      "491/491 [==============================] - 0s 89us/step - loss: 1.6937 - accuracy: 0.6069 - val_loss: 0.6594 - val_accuracy: 0.6911\n",
      "Epoch 94/100\n",
      "491/491 [==============================] - 0s 100us/step - loss: 1.1733 - accuracy: 0.5682 - val_loss: 0.9833 - val_accuracy: 0.7317\n",
      "Epoch 95/100\n",
      "491/491 [==============================] - 0s 95us/step - loss: 1.0687 - accuracy: 0.5804 - val_loss: 1.8940 - val_accuracy: 0.7317\n",
      "Epoch 96/100\n",
      "491/491 [==============================] - 0s 91us/step - loss: 1.8019 - accuracy: 0.5499 - val_loss: 1.4952 - val_accuracy: 0.3252\n",
      "Epoch 97/100\n",
      "491/491 [==============================] - 0s 87us/step - loss: 1.4326 - accuracy: 0.5703 - val_loss: 1.7559 - val_accuracy: 0.3171\n",
      "Epoch 98/100\n",
      "491/491 [==============================] - 0s 95us/step - loss: 1.4411 - accuracy: 0.5295 - val_loss: 0.9970 - val_accuracy: 0.7398\n",
      "Epoch 99/100\n",
      "491/491 [==============================] - 0s 100us/step - loss: 0.9951 - accuracy: 0.5804 - val_loss: 0.6833 - val_accuracy: 0.7154\n",
      "Epoch 100/100\n",
      "491/491 [==============================] - 0s 104us/step - loss: 0.9233 - accuracy: 0.6171 - val_loss: 0.7428 - val_accuracy: 0.6667\n"
     ]
    },
    {
     "data": {
      "text/plain": [
       "<keras.callbacks.callbacks.History at 0x2392322a248>"
      ]
     },
     "execution_count": 305,
     "metadata": {},
     "output_type": "execute_result"
    }
   ],
   "source": [
    "model.fit(X_train, y_train, validation_data=(X_val, y_val), epochs=100)"
   ]
  },
  {
   "cell_type": "code",
   "execution_count": 306,
   "metadata": {},
   "outputs": [
    {
     "name": "stdout",
     "output_type": "stream",
     "text": [
      "123/123 [==============================] - 0s 57us/step\n"
     ]
    },
    {
     "data": {
      "text/plain": [
       "[0.7427768893842774, 0.6666666865348816]"
      ]
     },
     "execution_count": 306,
     "metadata": {},
     "output_type": "execute_result"
    }
   ],
   "source": [
    "model.evaluate(X_val, y_val)"
   ]
  },
  {
   "cell_type": "code",
   "execution_count": 322,
   "metadata": {},
   "outputs": [
    {
     "data": {
      "text/plain": [
       "<tf.Tensor: shape=(123,), dtype=float32, numpy=\n",
       "array([0.5817175 , 0.58159536, 0.6093319 , 0.5815654 , 0.6155884 ,\n",
       "       0.79390305, 0.5966406 , 0.61330956, 0.5818811 , 0.5816826 ,\n",
       "       0.58673894, 0.5858554 , 0.58202165, 0.665682  , 0.607282  ,\n",
       "       0.58411807, 0.5817294 , 0.5885018 , 0.59332293, 0.65201485,\n",
       "       0.85579056, 0.6865494 , 0.62587124, 0.932013  , 0.6374389 ,\n",
       "       0.5902497 , 0.9766228 , 0.9884622 , 0.59159374, 0.5833605 ,\n",
       "       0.62776744, 0.5961411 , 0.688298  , 0.63019145, 0.66232085,\n",
       "       0.5920144 , 0.77489156, 0.60805553, 0.58531815, 0.9190778 ,\n",
       "       0.58525044, 0.599167  , 0.59048116, 0.59897083, 0.585773  ,\n",
       "       0.8117461 , 0.5830873 , 0.58156544, 0.58952004, 0.58294743,\n",
       "       0.58609605, 0.59736127, 0.58403844, 0.7417479 , 0.7451382 ,\n",
       "       0.67132074, 0.58611757, 0.5824878 , 0.60780877, 0.58287627,\n",
       "       1.8928689 , 0.6341575 , 0.72969407, 0.5914166 , 0.58777666,\n",
       "       0.9995465 , 0.6575774 , 0.7213027 , 0.68565273, 0.7166261 ,\n",
       "       0.67455614, 0.6128229 , 0.5840636 , 0.5888271 , 0.731948  ,\n",
       "       0.7220531 , 3.2568898 , 0.77711844, 0.5966844 , 0.5859942 ,\n",
       "       1.1269802 , 0.80249494, 0.59810054, 0.6174483 , 0.58757293,\n",
       "       0.59027535, 0.5990372 , 0.99250495, 0.58460826, 0.6355839 ,\n",
       "       0.6151548 , 0.58634937, 0.58736163, 0.9255482 , 0.592284  ,\n",
       "       0.5816053 , 0.5953814 , 0.7002859 , 0.5817908 , 0.62682694,\n",
       "       0.585791  , 0.65107113, 0.8042567 , 0.6262881 , 0.58899873,\n",
       "       0.5829906 , 0.6221198 , 0.5836465 , 0.58892787, 0.584668  ,\n",
       "       0.58168274, 0.60519135, 0.5826653 , 0.59291226, 1.0597591 ,\n",
       "       0.62066287, 0.5838832 , 0.6951127 , 0.63057685, 0.58527976,\n",
       "       0.6564466 , 0.5925747 , 0.6920318 ], dtype=float32)>"
      ]
     },
     "execution_count": 322,
     "metadata": {},
     "output_type": "execute_result"
    }
   ],
   "source": [
    "model.loss(y_val, model.predict(X_val))"
   ]
  },
  {
   "cell_type": "code",
   "execution_count": 323,
   "metadata": {},
   "outputs": [
    {
     "data": {
      "text/plain": [
       "[1.2586461385738583,\n",
       " 1.095234340902744,\n",
       " 1.097152220862946,\n",
       " 1.2730783054153691,\n",
       " 0.8551377648005903,\n",
       " 0.7792361627528235,\n",
       " 0.8897206247945424,\n",
       " 0.7793932375621407,\n",
       " 1.2814325480257178,\n",
       " 1.0646373808019758,\n",
       " 0.7188784596633523,\n",
       " 0.7696077465525469,\n",
       " 0.8046346034877412,\n",
       " 1.488269886756866,\n",
       " 1.0686955777302294,\n",
       " 1.215196087622594,\n",
       " 1.5235982805551191,\n",
       " 1.9509757906710634,\n",
       " 2.031976916153902,\n",
       " 1.1600053988988919,\n",
       " 1.0732500232649917,\n",
       " 0.9752847145628298,\n",
       " 0.8844069864016686,\n",
       " 0.7928687715239049,\n",
       " 1.1202807887751314,\n",
       " 0.8235351843892192,\n",
       " 1.2658984545777625,\n",
       " 1.303076390457736,\n",
       " 0.7812033872254754,\n",
       " 1.2224676162307957,\n",
       " 1.3317600642833594,\n",
       " 1.1378566968708077,\n",
       " 1.3148211923004895,\n",
       " 1.3690978823392794,\n",
       " 1.4488039673467275,\n",
       " 1.078785076646358,\n",
       " 1.6421262147227518,\n",
       " 1.0880655815062357,\n",
       " 0.9517521439404691,\n",
       " 0.852842320249911,\n",
       " 1.318878622501785,\n",
       " 1.19356542497934,\n",
       " 0.7835669738454877,\n",
       " 1.1265570214226872,\n",
       " 1.3059433555408797,\n",
       " 1.7045467878310598,\n",
       " 1.2604021268561028,\n",
       " 2.0536216266771925,\n",
       " 1.5021326919437183,\n",
       " 0.9521784616099356,\n",
       " 1.5152254502787852,\n",
       " 1.4298967734859334,\n",
       " 1.105421460330365,\n",
       " 0.8667469006449044,\n",
       " 0.7944723143111421,\n",
       " 0.747474022649699,\n",
       " 1.1157506120423435,\n",
       " 0.7855986567961466,\n",
       " 1.4236068138037097,\n",
       " 1.292915081115944,\n",
       " 0.9955086929006635,\n",
       " 0.8096048233465362,\n",
       " 0.9734260915738745,\n",
       " 1.324175557633767,\n",
       " 1.0870854369006187,\n",
       " 1.8716510711522307,\n",
       " 1.0982047138534592,\n",
       " 0.8937260309450495,\n",
       " 1.0531739080267866,\n",
       " 0.880090372139956,\n",
       " 0.7208320190124745,\n",
       " 0.7459438040154529,\n",
       " 0.8503924541463677,\n",
       " 1.0285051687186215,\n",
       " 1.5304824895625688,\n",
       " 1.2155992806321978,\n",
       " 0.8977270579143842,\n",
       " 0.8329142584577355,\n",
       " 0.8813974511356315,\n",
       " 0.7046687133807514,\n",
       " 0.8025031099494266,\n",
       " 0.8771284846570001,\n",
       " 1.1869012044549232,\n",
       " 0.8242728693179346,\n",
       " 2.2789452673218644,\n",
       " 1.1063812821800014,\n",
       " 0.9567862038942558,\n",
       " 0.9207774137285236,\n",
       " 1.0872029925558087,\n",
       " 1.6913333924870384,\n",
       " 1.691324716672878,\n",
       " 1.21202820138873,\n",
       " 1.6936899271856258,\n",
       " 1.173340793296907,\n",
       " 1.0687449519330912,\n",
       " 1.8018922463453957,\n",
       " 1.4325593865330497,\n",
       " 1.441116797705532,\n",
       " 0.9951201009653251,\n",
       " 0.9232718025594039]"
      ]
     },
     "execution_count": 323,
     "metadata": {},
     "output_type": "execute_result"
    }
   ],
   "source": [
    "model.history.history['']"
   ]
  },
  {
   "cell_type": "code",
   "execution_count": 327,
   "metadata": {},
   "outputs": [
    {
     "data": {
      "image/png": "[encoded data removed]",
      "text/plain": [
       "<Figure size 432x288 with 1 Axes>"
      ]
     },
     "metadata": {
      "needs_background": "light"
     },
     "output_type": "display_data"
    }
   ],
   "source": [
    "plt.plot(model.history.history['loss'])\n",
    "plt.plot(model.history.history['val_loss'])\n",
    "plt.ylabel('loss')\n",
    "plt.xlabel('epochs')\n",
    "plt.show()"
   ]
  },
  {
   "cell_type": "code",
   "execution_count": 335,
   "metadata": {},
   "outputs": [
    {
     "name": "stdout",
     "output_type": "stream",
     "text": [
      "123/123 [==============================] - 0s 137us/step\n"
     ]
    },
    {
     "data": {
      "text/plain": [
       "[0.7427768893842774, 0.6666666865348816]"
      ]
     },
     "execution_count": 335,
     "metadata": {},
     "output_type": "execute_result"
    }
   ],
   "source": [
    "result=model.evaluate(X_val, y_val)\n",
    "result"
   ]
  },
  {
   "cell_type": "code",
   "execution_count": 334,
   "metadata": {},
   "outputs": [
    {
     "name": "stdout",
     "output_type": "stream",
     "text": [
      "metrics loss : 0.74\n",
      "metrics accuracy : 0.67\n"
     ]
    }
   ],
   "source": [
    "for i in range(len(model.metrics_names)):\n",
    "    print('metrics',model.metrics_names[i], ':', round(result[i],2))"
   ]
  },
  {
   "cell_type": "code",
   "execution_count": null,
   "metadata": {},
   "outputs": [],
   "source": []
  }
 ],
 "metadata": {
  "kernelspec": {
   "display_name": "Python 3",
   "language": "python",
   "name": "python3"
  },
  "language_info": {
   "codemirror_mode": {
    "name": "ipython",
    "version": 3
   },
   "file_extension": ".py",
   "mimetype": "text/x-python",
   "name": "python",
   "nbconvert_exporter": "python",
   "pygments_lexer": "ipython3",
   "version": "3.7.4"
  }
 },
 "nbformat": 4,
 "nbformat_minor": 4
}
